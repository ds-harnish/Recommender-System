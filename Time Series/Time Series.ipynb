{
 "cells": [
  {
   "cell_type": "markdown",
   "id": "4d07b946-7f94-4f21-9b40-472bb67acebd",
   "metadata": {},
   "source": [
    "# Seasonability Analysis"
   ]
  },
  {
   "cell_type": "markdown",
   "id": "bdf58411-f0be-480a-b722-93567d43c97d",
   "metadata": {},
   "source": [
    "Seasonality refers to regular and predictable variations or patterns in a time series that occur at certain time intervals such as daily, weekly or yearly.\n",
    "\n",
    "My main goal is to identify significant trends, seasonal patterns and residuals in products. presentation Using advanced statistical analysis and visualization tools to analyze and interpret the temporal dynamics of the dataset"
   ]
  },
  {
   "cell_type": "markdown",
   "id": "4bed44ce-d86e-4d31-83b3-f335cf11645e",
   "metadata": {},
   "source": [
    "### Imports"
   ]
  },
  {
   "cell_type": "code",
   "execution_count": 45,
   "id": "9857b7ca-01fe-48f3-a608-eee88a3989f2",
   "metadata": {
    "tags": []
   },
   "outputs": [],
   "source": [
    "import pandas as pd\n",
    "import numpy as np\n",
    "import matplotlib.pyplot as plt\n",
    "import seaborn as sns\n",
    "\n",
    "%matplotlib inline\n",
    "\n",
    "import datetime as dt\n",
    "import os\n",
    "\n",
    "from statsmodels.tsa.seasonal import seasonal_decompose\n",
    "from dateutil.parser import parse"
   ]
  },
  {
   "cell_type": "code",
   "execution_count": 2,
   "id": "c4654f42-7fbd-4006-9111-2fdee0de2859",
   "metadata": {
    "tags": []
   },
   "outputs": [
    {
     "data": {
      "text/html": [
       "<div>\n",
       "<style scoped>\n",
       "    .dataframe tbody tr th:only-of-type {\n",
       "        vertical-align: middle;\n",
       "    }\n",
       "\n",
       "    .dataframe tbody tr th {\n",
       "        vertical-align: top;\n",
       "    }\n",
       "\n",
       "    .dataframe thead th {\n",
       "        text-align: right;\n",
       "    }\n",
       "</style>\n",
       "<table border=\"1\" class=\"dataframe\">\n",
       "  <thead>\n",
       "    <tr style=\"text-align: right;\">\n",
       "      <th></th>\n",
       "      <th>Invoice</th>\n",
       "      <th>StockCode</th>\n",
       "      <th>Description</th>\n",
       "      <th>Quantity</th>\n",
       "      <th>InvoiceDate</th>\n",
       "      <th>Price</th>\n",
       "      <th>Customer ID</th>\n",
       "      <th>Country</th>\n",
       "    </tr>\n",
       "  </thead>\n",
       "  <tbody>\n",
       "    <tr>\n",
       "      <th>0</th>\n",
       "      <td>489434</td>\n",
       "      <td>85048</td>\n",
       "      <td>15CM CHRISTMAS GLASS BALL 20 LIGHTS</td>\n",
       "      <td>12</td>\n",
       "      <td>2009-12-01 07:45:00</td>\n",
       "      <td>6.95</td>\n",
       "      <td>13085.0</td>\n",
       "      <td>United Kingdom</td>\n",
       "    </tr>\n",
       "    <tr>\n",
       "      <th>1</th>\n",
       "      <td>489434</td>\n",
       "      <td>79323P</td>\n",
       "      <td>PINK CHERRY LIGHTS</td>\n",
       "      <td>12</td>\n",
       "      <td>2009-12-01 07:45:00</td>\n",
       "      <td>6.75</td>\n",
       "      <td>13085.0</td>\n",
       "      <td>United Kingdom</td>\n",
       "    </tr>\n",
       "    <tr>\n",
       "      <th>2</th>\n",
       "      <td>489434</td>\n",
       "      <td>79323W</td>\n",
       "      <td>WHITE CHERRY LIGHTS</td>\n",
       "      <td>12</td>\n",
       "      <td>2009-12-01 07:45:00</td>\n",
       "      <td>6.75</td>\n",
       "      <td>13085.0</td>\n",
       "      <td>United Kingdom</td>\n",
       "    </tr>\n",
       "    <tr>\n",
       "      <th>3</th>\n",
       "      <td>489434</td>\n",
       "      <td>22041</td>\n",
       "      <td>RECORD FRAME 7\" SINGLE SIZE</td>\n",
       "      <td>48</td>\n",
       "      <td>2009-12-01 07:45:00</td>\n",
       "      <td>2.10</td>\n",
       "      <td>13085.0</td>\n",
       "      <td>United Kingdom</td>\n",
       "    </tr>\n",
       "    <tr>\n",
       "      <th>4</th>\n",
       "      <td>489434</td>\n",
       "      <td>21232</td>\n",
       "      <td>STRAWBERRY CERAMIC TRINKET BOX</td>\n",
       "      <td>24</td>\n",
       "      <td>2009-12-01 07:45:00</td>\n",
       "      <td>1.25</td>\n",
       "      <td>13085.0</td>\n",
       "      <td>United Kingdom</td>\n",
       "    </tr>\n",
       "  </tbody>\n",
       "</table>\n",
       "</div>"
      ],
      "text/plain": [
       "  Invoice StockCode                          Description  Quantity  \\\n",
       "0  489434     85048  15CM CHRISTMAS GLASS BALL 20 LIGHTS        12   \n",
       "1  489434    79323P                   PINK CHERRY LIGHTS        12   \n",
       "2  489434    79323W                  WHITE CHERRY LIGHTS        12   \n",
       "3  489434     22041         RECORD FRAME 7\" SINGLE SIZE         48   \n",
       "4  489434     21232       STRAWBERRY CERAMIC TRINKET BOX        24   \n",
       "\n",
       "           InvoiceDate  Price  Customer ID         Country  \n",
       "0  2009-12-01 07:45:00   6.95      13085.0  United Kingdom  \n",
       "1  2009-12-01 07:45:00   6.75      13085.0  United Kingdom  \n",
       "2  2009-12-01 07:45:00   6.75      13085.0  United Kingdom  \n",
       "3  2009-12-01 07:45:00   2.10      13085.0  United Kingdom  \n",
       "4  2009-12-01 07:45:00   1.25      13085.0  United Kingdom  "
      ]
     },
     "execution_count": 2,
     "metadata": {},
     "output_type": "execute_result"
    }
   ],
   "source": [
    "df = pd.read_csv('../data/concated_df.csv')\n",
    "df.head()"
   ]
  },
  {
   "cell_type": "code",
   "execution_count": 3,
   "id": "d6a8af41-e666-4387-86c0-75c2eab5d7d7",
   "metadata": {
    "tags": []
   },
   "outputs": [
    {
     "data": {
      "text/plain": [
       "Invoice         object\n",
       "StockCode       object\n",
       "Description     object\n",
       "Quantity         int64\n",
       "InvoiceDate     object\n",
       "Price          float64\n",
       "Customer ID    float64\n",
       "Country         object\n",
       "dtype: object"
      ]
     },
     "execution_count": 3,
     "metadata": {},
     "output_type": "execute_result"
    }
   ],
   "source": [
    "df.dtypes"
   ]
  },
  {
   "cell_type": "markdown",
   "id": "ce0978a9-cba7-4e8a-8b88-cd94f628933a",
   "metadata": {},
   "source": [
    "### Data Cleaning"
   ]
  },
  {
   "cell_type": "code",
   "execution_count": 4,
   "id": "11574eb8-c22f-45f3-8feb-b5d330f8cc98",
   "metadata": {
    "tags": []
   },
   "outputs": [
    {
     "data": {
      "text/plain": [
       "'2009-12-01 07:45:00'"
      ]
     },
     "execution_count": 4,
     "metadata": {},
     "output_type": "execute_result"
    }
   ],
   "source": [
    "#InvoiceDate to datetime format\n",
    "df.loc[0, 'InvoiceDate']"
   ]
  },
  {
   "cell_type": "code",
   "execution_count": 5,
   "id": "accc80cc-1928-4708-a19b-907f7177b953",
   "metadata": {
    "tags": []
   },
   "outputs": [
    {
     "data": {
      "text/html": [
       "<div>\n",
       "<style scoped>\n",
       "    .dataframe tbody tr th:only-of-type {\n",
       "        vertical-align: middle;\n",
       "    }\n",
       "\n",
       "    .dataframe tbody tr th {\n",
       "        vertical-align: top;\n",
       "    }\n",
       "\n",
       "    .dataframe thead th {\n",
       "        text-align: right;\n",
       "    }\n",
       "</style>\n",
       "<table border=\"1\" class=\"dataframe\">\n",
       "  <thead>\n",
       "    <tr style=\"text-align: right;\">\n",
       "      <th></th>\n",
       "      <th>Invoice</th>\n",
       "      <th>StockCode</th>\n",
       "      <th>Description</th>\n",
       "      <th>Quantity</th>\n",
       "      <th>InvoiceDate</th>\n",
       "      <th>Price</th>\n",
       "      <th>Customer ID</th>\n",
       "      <th>Country</th>\n",
       "    </tr>\n",
       "  </thead>\n",
       "  <tbody>\n",
       "    <tr>\n",
       "      <th>0</th>\n",
       "      <td>489434</td>\n",
       "      <td>85048</td>\n",
       "      <td>15CM CHRISTMAS GLASS BALL 20 LIGHTS</td>\n",
       "      <td>12</td>\n",
       "      <td>2009-12-01 07:45:00</td>\n",
       "      <td>6.95</td>\n",
       "      <td>13085.0</td>\n",
       "      <td>United Kingdom</td>\n",
       "    </tr>\n",
       "    <tr>\n",
       "      <th>1</th>\n",
       "      <td>489434</td>\n",
       "      <td>79323P</td>\n",
       "      <td>PINK CHERRY LIGHTS</td>\n",
       "      <td>12</td>\n",
       "      <td>2009-12-01 07:45:00</td>\n",
       "      <td>6.75</td>\n",
       "      <td>13085.0</td>\n",
       "      <td>United Kingdom</td>\n",
       "    </tr>\n",
       "    <tr>\n",
       "      <th>2</th>\n",
       "      <td>489434</td>\n",
       "      <td>79323W</td>\n",
       "      <td>WHITE CHERRY LIGHTS</td>\n",
       "      <td>12</td>\n",
       "      <td>2009-12-01 07:45:00</td>\n",
       "      <td>6.75</td>\n",
       "      <td>13085.0</td>\n",
       "      <td>United Kingdom</td>\n",
       "    </tr>\n",
       "    <tr>\n",
       "      <th>3</th>\n",
       "      <td>489434</td>\n",
       "      <td>22041</td>\n",
       "      <td>RECORD FRAME 7\" SINGLE SIZE</td>\n",
       "      <td>48</td>\n",
       "      <td>2009-12-01 07:45:00</td>\n",
       "      <td>2.10</td>\n",
       "      <td>13085.0</td>\n",
       "      <td>United Kingdom</td>\n",
       "    </tr>\n",
       "    <tr>\n",
       "      <th>4</th>\n",
       "      <td>489434</td>\n",
       "      <td>21232</td>\n",
       "      <td>STRAWBERRY CERAMIC TRINKET BOX</td>\n",
       "      <td>24</td>\n",
       "      <td>2009-12-01 07:45:00</td>\n",
       "      <td>1.25</td>\n",
       "      <td>13085.0</td>\n",
       "      <td>United Kingdom</td>\n",
       "    </tr>\n",
       "  </tbody>\n",
       "</table>\n",
       "</div>"
      ],
      "text/plain": [
       "  Invoice StockCode                          Description  Quantity  \\\n",
       "0  489434     85048  15CM CHRISTMAS GLASS BALL 20 LIGHTS        12   \n",
       "1  489434    79323P                   PINK CHERRY LIGHTS        12   \n",
       "2  489434    79323W                  WHITE CHERRY LIGHTS        12   \n",
       "3  489434     22041         RECORD FRAME 7\" SINGLE SIZE         48   \n",
       "4  489434     21232       STRAWBERRY CERAMIC TRINKET BOX        24   \n",
       "\n",
       "          InvoiceDate  Price  Customer ID         Country  \n",
       "0 2009-12-01 07:45:00   6.95      13085.0  United Kingdom  \n",
       "1 2009-12-01 07:45:00   6.75      13085.0  United Kingdom  \n",
       "2 2009-12-01 07:45:00   6.75      13085.0  United Kingdom  \n",
       "3 2009-12-01 07:45:00   2.10      13085.0  United Kingdom  \n",
       "4 2009-12-01 07:45:00   1.25      13085.0  United Kingdom  "
      ]
     },
     "execution_count": 5,
     "metadata": {},
     "output_type": "execute_result"
    }
   ],
   "source": [
    "df['InvoiceDate'] = pd.to_datetime(df['InvoiceDate'], format='ISO8601')\n",
    "df.head()"
   ]
  },
  {
   "cell_type": "code",
   "execution_count": 6,
   "id": "6db9f7ce-d6e3-4536-af48-bd4960e5fd1e",
   "metadata": {
    "tags": []
   },
   "outputs": [
    {
     "data": {
      "text/plain": [
       "(1067371, 8)"
      ]
     },
     "execution_count": 6,
     "metadata": {},
     "output_type": "execute_result"
    }
   ],
   "source": [
    "df.shape"
   ]
  },
  {
   "cell_type": "code",
   "execution_count": 7,
   "id": "2809975e-acbc-4733-8de1-85f97367b2c5",
   "metadata": {
    "tags": []
   },
   "outputs": [
    {
     "data": {
      "text/plain": [
       "'Tuesday'"
      ]
     },
     "execution_count": 7,
     "metadata": {},
     "output_type": "execute_result"
    }
   ],
   "source": [
    "df.loc[0, 'InvoiceDate'].day_name()"
   ]
  },
  {
   "cell_type": "code",
   "execution_count": 8,
   "id": "08010340-d53b-4dfb-8ac3-dfb207040e2a",
   "metadata": {
    "tags": []
   },
   "outputs": [
    {
     "data": {
      "text/plain": [
       "(1033036, 8)"
      ]
     },
     "execution_count": 8,
     "metadata": {},
     "output_type": "execute_result"
    }
   ],
   "source": [
    "#Removing Duplicates\n",
    "df.drop_duplicates(inplace=True)\n",
    "df.shape"
   ]
  },
  {
   "cell_type": "code",
   "execution_count": 9,
   "id": "b27f9b3e-2297-4f3b-802a-aba974cea19a",
   "metadata": {
    "tags": []
   },
   "outputs": [
    {
     "name": "stdout",
     "output_type": "stream",
     "text": [
      "<class 'pandas.core.frame.DataFrame'>\n",
      "Index: 1033036 entries, 0 to 1067370\n",
      "Data columns (total 6 columns):\n",
      " #   Column       Non-Null Count    Dtype         \n",
      "---  ------       --------------    -----         \n",
      " 0   StockCode    1033036 non-null  object        \n",
      " 1   Description  1028761 non-null  object        \n",
      " 2   Quantity     1033036 non-null  int64         \n",
      " 3   InvoiceDate  1033036 non-null  datetime64[ns]\n",
      " 4   Price        1033036 non-null  float64       \n",
      " 5   Country      1033036 non-null  object        \n",
      "dtypes: datetime64[ns](1), float64(1), int64(1), object(3)\n",
      "memory usage: 55.2+ MB\n"
     ]
    }
   ],
   "source": [
    "df.drop(\"Customer ID\", axis='columns',inplace=True)\n",
    "df.drop(\"Invoice\",axis='columns',inplace=True)\n",
    "df.info()"
   ]
  },
  {
   "cell_type": "markdown",
   "id": "6cbee5bf-1a89-4a56-8db1-90817290ecc0",
   "metadata": {},
   "source": [
    "Excluding columns that do not contribute to our primary focus on seasonality, I have opted to eliminate the 'Customer' and 'Invoice' columns from the dataset."
   ]
  },
  {
   "cell_type": "code",
   "execution_count": 10,
   "id": "6a32ac7b-194b-4765-bfde-5ce8a91caca3",
   "metadata": {
    "tags": []
   },
   "outputs": [
    {
     "data": {
      "text/plain": [
       "0          Tuesday\n",
       "1          Tuesday\n",
       "2          Tuesday\n",
       "3          Tuesday\n",
       "4          Tuesday\n",
       "            ...   \n",
       "1067366     Friday\n",
       "1067367     Friday\n",
       "1067368     Friday\n",
       "1067369     Friday\n",
       "1067370     Friday\n",
       "Name: InvoiceDate, Length: 1033036, dtype: object"
      ]
     },
     "execution_count": 10,
     "metadata": {},
     "output_type": "execute_result"
    }
   ],
   "source": [
    "df['InvoiceDate'].dt.day_name()"
   ]
  },
  {
   "cell_type": "code",
   "execution_count": 11,
   "id": "f1e14391-11ed-4526-a8c6-e34abe91bc4d",
   "metadata": {
    "tags": []
   },
   "outputs": [
    {
     "data": {
      "text/html": [
       "<div>\n",
       "<style scoped>\n",
       "    .dataframe tbody tr th:only-of-type {\n",
       "        vertical-align: middle;\n",
       "    }\n",
       "\n",
       "    .dataframe tbody tr th {\n",
       "        vertical-align: top;\n",
       "    }\n",
       "\n",
       "    .dataframe thead th {\n",
       "        text-align: right;\n",
       "    }\n",
       "</style>\n",
       "<table border=\"1\" class=\"dataframe\">\n",
       "  <thead>\n",
       "    <tr style=\"text-align: right;\">\n",
       "      <th></th>\n",
       "      <th>StockCode</th>\n",
       "      <th>Description</th>\n",
       "      <th>Quantity</th>\n",
       "      <th>InvoiceDate</th>\n",
       "      <th>Price</th>\n",
       "      <th>Country</th>\n",
       "      <th>DayofWeek</th>\n",
       "    </tr>\n",
       "  </thead>\n",
       "  <tbody>\n",
       "    <tr>\n",
       "      <th>0</th>\n",
       "      <td>85048</td>\n",
       "      <td>15CM CHRISTMAS GLASS BALL 20 LIGHTS</td>\n",
       "      <td>12</td>\n",
       "      <td>2009-12-01 07:45:00</td>\n",
       "      <td>6.95</td>\n",
       "      <td>United Kingdom</td>\n",
       "      <td>Tuesday</td>\n",
       "    </tr>\n",
       "    <tr>\n",
       "      <th>1</th>\n",
       "      <td>79323P</td>\n",
       "      <td>PINK CHERRY LIGHTS</td>\n",
       "      <td>12</td>\n",
       "      <td>2009-12-01 07:45:00</td>\n",
       "      <td>6.75</td>\n",
       "      <td>United Kingdom</td>\n",
       "      <td>Tuesday</td>\n",
       "    </tr>\n",
       "    <tr>\n",
       "      <th>2</th>\n",
       "      <td>79323W</td>\n",
       "      <td>WHITE CHERRY LIGHTS</td>\n",
       "      <td>12</td>\n",
       "      <td>2009-12-01 07:45:00</td>\n",
       "      <td>6.75</td>\n",
       "      <td>United Kingdom</td>\n",
       "      <td>Tuesday</td>\n",
       "    </tr>\n",
       "    <tr>\n",
       "      <th>3</th>\n",
       "      <td>22041</td>\n",
       "      <td>RECORD FRAME 7\" SINGLE SIZE</td>\n",
       "      <td>48</td>\n",
       "      <td>2009-12-01 07:45:00</td>\n",
       "      <td>2.10</td>\n",
       "      <td>United Kingdom</td>\n",
       "      <td>Tuesday</td>\n",
       "    </tr>\n",
       "    <tr>\n",
       "      <th>4</th>\n",
       "      <td>21232</td>\n",
       "      <td>STRAWBERRY CERAMIC TRINKET BOX</td>\n",
       "      <td>24</td>\n",
       "      <td>2009-12-01 07:45:00</td>\n",
       "      <td>1.25</td>\n",
       "      <td>United Kingdom</td>\n",
       "      <td>Tuesday</td>\n",
       "    </tr>\n",
       "    <tr>\n",
       "      <th>...</th>\n",
       "      <td>...</td>\n",
       "      <td>...</td>\n",
       "      <td>...</td>\n",
       "      <td>...</td>\n",
       "      <td>...</td>\n",
       "      <td>...</td>\n",
       "      <td>...</td>\n",
       "    </tr>\n",
       "    <tr>\n",
       "      <th>1067366</th>\n",
       "      <td>22899</td>\n",
       "      <td>CHILDREN'S APRON DOLLY GIRL</td>\n",
       "      <td>6</td>\n",
       "      <td>2011-12-09 12:50:00</td>\n",
       "      <td>2.10</td>\n",
       "      <td>France</td>\n",
       "      <td>Friday</td>\n",
       "    </tr>\n",
       "    <tr>\n",
       "      <th>1067367</th>\n",
       "      <td>23254</td>\n",
       "      <td>CHILDRENS CUTLERY DOLLY GIRL</td>\n",
       "      <td>4</td>\n",
       "      <td>2011-12-09 12:50:00</td>\n",
       "      <td>4.15</td>\n",
       "      <td>France</td>\n",
       "      <td>Friday</td>\n",
       "    </tr>\n",
       "    <tr>\n",
       "      <th>1067368</th>\n",
       "      <td>23255</td>\n",
       "      <td>CHILDRENS CUTLERY CIRCUS PARADE</td>\n",
       "      <td>4</td>\n",
       "      <td>2011-12-09 12:50:00</td>\n",
       "      <td>4.15</td>\n",
       "      <td>France</td>\n",
       "      <td>Friday</td>\n",
       "    </tr>\n",
       "    <tr>\n",
       "      <th>1067369</th>\n",
       "      <td>22138</td>\n",
       "      <td>BAKING SET 9 PIECE RETROSPOT</td>\n",
       "      <td>3</td>\n",
       "      <td>2011-12-09 12:50:00</td>\n",
       "      <td>4.95</td>\n",
       "      <td>France</td>\n",
       "      <td>Friday</td>\n",
       "    </tr>\n",
       "    <tr>\n",
       "      <th>1067370</th>\n",
       "      <td>POST</td>\n",
       "      <td>POSTAGE</td>\n",
       "      <td>1</td>\n",
       "      <td>2011-12-09 12:50:00</td>\n",
       "      <td>18.00</td>\n",
       "      <td>France</td>\n",
       "      <td>Friday</td>\n",
       "    </tr>\n",
       "  </tbody>\n",
       "</table>\n",
       "<p>1033036 rows × 7 columns</p>\n",
       "</div>"
      ],
      "text/plain": [
       "        StockCode                          Description  Quantity  \\\n",
       "0           85048  15CM CHRISTMAS GLASS BALL 20 LIGHTS        12   \n",
       "1          79323P                   PINK CHERRY LIGHTS        12   \n",
       "2          79323W                  WHITE CHERRY LIGHTS        12   \n",
       "3           22041         RECORD FRAME 7\" SINGLE SIZE         48   \n",
       "4           21232       STRAWBERRY CERAMIC TRINKET BOX        24   \n",
       "...           ...                                  ...       ...   \n",
       "1067366     22899         CHILDREN'S APRON DOLLY GIRL          6   \n",
       "1067367     23254        CHILDRENS CUTLERY DOLLY GIRL          4   \n",
       "1067368     23255      CHILDRENS CUTLERY CIRCUS PARADE         4   \n",
       "1067369     22138        BAKING SET 9 PIECE RETROSPOT          3   \n",
       "1067370      POST                              POSTAGE         1   \n",
       "\n",
       "                InvoiceDate  Price         Country DayofWeek  \n",
       "0       2009-12-01 07:45:00   6.95  United Kingdom   Tuesday  \n",
       "1       2009-12-01 07:45:00   6.75  United Kingdom   Tuesday  \n",
       "2       2009-12-01 07:45:00   6.75  United Kingdom   Tuesday  \n",
       "3       2009-12-01 07:45:00   2.10  United Kingdom   Tuesday  \n",
       "4       2009-12-01 07:45:00   1.25  United Kingdom   Tuesday  \n",
       "...                     ...    ...             ...       ...  \n",
       "1067366 2011-12-09 12:50:00   2.10          France    Friday  \n",
       "1067367 2011-12-09 12:50:00   4.15          France    Friday  \n",
       "1067368 2011-12-09 12:50:00   4.15          France    Friday  \n",
       "1067369 2011-12-09 12:50:00   4.95          France    Friday  \n",
       "1067370 2011-12-09 12:50:00  18.00          France    Friday  \n",
       "\n",
       "[1033036 rows x 7 columns]"
      ]
     },
     "execution_count": 11,
     "metadata": {},
     "output_type": "execute_result"
    }
   ],
   "source": [
    "df['DayofWeek'] = df['InvoiceDate'].dt.day_name()\n",
    "df"
   ]
  },
  {
   "cell_type": "markdown",
   "id": "da2aff4c-0986-410a-abc6-d96a150636eb",
   "metadata": {},
   "source": [
    "Now let us find out how many days we have in our dataset"
   ]
  },
  {
   "cell_type": "code",
   "execution_count": 12,
   "id": "f04d425f-14ce-486a-9a2b-a4b61ff0413c",
   "metadata": {
    "tags": []
   },
   "outputs": [
    {
     "data": {
      "text/plain": [
       "Timedelta('738 days 05:05:00')"
      ]
     },
     "execution_count": 12,
     "metadata": {},
     "output_type": "execute_result"
    }
   ],
   "source": [
    "df['InvoiceDate'].max() - df['InvoiceDate'].min()"
   ]
  },
  {
   "cell_type": "markdown",
   "id": "d55227ad-6352-472b-9ba4-da6b227b3858",
   "metadata": {},
   "source": [
    "We have a total of 738 days in our dataset."
   ]
  },
  {
   "cell_type": "code",
   "execution_count": 13,
   "id": "eebb1590-2ca8-4aa8-89a7-55c32356dcf7",
   "metadata": {
    "tags": []
   },
   "outputs": [
    {
     "data": {
      "text/plain": [
       "Country\n",
       "United Kingdom          948321\n",
       "EIRE                     17667\n",
       "Germany                  17339\n",
       "France                   14025\n",
       "Netherlands               5137\n",
       "Spain                     3754\n",
       "Switzerland               3175\n",
       "Belgium                   3110\n",
       "Portugal                  2528\n",
       "Australia                 1890\n",
       "Channel Islands           1646\n",
       "Italy                     1507\n",
       "Sweden                    1362\n",
       "Norway                    1308\n",
       "Cyprus                    1157\n",
       "Finland                   1049\n",
       "Austria                    938\n",
       "Denmark                    797\n",
       "Unspecified                752\n",
       "Greece                     663\n",
       "Japan                      565\n",
       "USA                        535\n",
       "Poland                     527\n",
       "United Arab Emirates       500\n",
       "Israel                     368\n",
       "Hong Kong                  360\n",
       "Singapore                  346\n",
       "Malta                      299\n",
       "Canada                     228\n",
       "Iceland                    222\n",
       "RSA                        169\n",
       "Lithuania                  154\n",
       "Bahrain                    126\n",
       "Brazil                      94\n",
       "Thailand                    76\n",
       "Korea                       63\n",
       "European Community          61\n",
       "Lebanon                     58\n",
       "West Indies                 54\n",
       "Bermuda                     34\n",
       "Nigeria                     32\n",
       "Czech Republic              30\n",
       "Saudi Arabia                10\n",
       "Name: count, dtype: int64"
      ]
     },
     "execution_count": 13,
     "metadata": {},
     "output_type": "execute_result"
    }
   ],
   "source": [
    "df['Country'].value_counts()"
   ]
  },
  {
   "cell_type": "markdown",
   "id": "032cce49-4860-4e54-826f-35962a742cde",
   "metadata": {},
   "source": [
    "#### Focus on a Single Country\n",
    "In the interest of enhancing the clarity and interpretability of our analysis, we can narrow our dataset to focus solely UK as it's the country with the highest value counts."
   ]
  },
  {
   "cell_type": "code",
   "execution_count": 14,
   "id": "40895ab6-95de-4b13-99e2-65d4cc79230c",
   "metadata": {
    "tags": []
   },
   "outputs": [
    {
     "data": {
      "text/plain": [
       "Country\n",
       "United Kingdom    948321\n",
       "Name: count, dtype: int64"
      ]
     },
     "execution_count": 14,
     "metadata": {},
     "output_type": "execute_result"
    }
   ],
   "source": [
    "df.drop(df[df['Country'] != 'United Kingdom'].index, inplace = True)\n",
    "df['Country'].value_counts()"
   ]
  },
  {
   "cell_type": "code",
   "execution_count": 15,
   "id": "240f840b-8357-4811-9c9f-629905f8711b",
   "metadata": {
    "tags": []
   },
   "outputs": [
    {
     "name": "stdout",
     "output_type": "stream",
     "text": [
      "<class 'pandas.core.frame.DataFrame'>\n",
      "Index: 948321 entries, 0 to 1067354\n",
      "Data columns (total 6 columns):\n",
      " #   Column       Non-Null Count   Dtype         \n",
      "---  ------       --------------   -----         \n",
      " 0   StockCode    948321 non-null  object        \n",
      " 1   Description  944046 non-null  object        \n",
      " 2   Quantity     948321 non-null  int64         \n",
      " 3   InvoiceDate  948321 non-null  datetime64[ns]\n",
      " 4   Price        948321 non-null  float64       \n",
      " 5   DayofWeek    948321 non-null  object        \n",
      "dtypes: datetime64[ns](1), float64(1), int64(1), object(3)\n",
      "memory usage: 50.6+ MB\n"
     ]
    }
   ],
   "source": [
    "#Drop Country column\n",
    "df.drop(\"Country\",axis='columns',inplace=True)\n",
    "df.info()"
   ]
  },
  {
   "cell_type": "code",
   "execution_count": 16,
   "id": "78ae0ce9-e306-459f-8090-9e9486f3395b",
   "metadata": {
    "tags": []
   },
   "outputs": [
    {
     "data": {
      "text/html": [
       "<div>\n",
       "<style scoped>\n",
       "    .dataframe tbody tr th:only-of-type {\n",
       "        vertical-align: middle;\n",
       "    }\n",
       "\n",
       "    .dataframe tbody tr th {\n",
       "        vertical-align: top;\n",
       "    }\n",
       "\n",
       "    .dataframe thead th {\n",
       "        text-align: right;\n",
       "    }\n",
       "</style>\n",
       "<table border=\"1\" class=\"dataframe\">\n",
       "  <thead>\n",
       "    <tr style=\"text-align: right;\">\n",
       "      <th></th>\n",
       "      <th>StockCode</th>\n",
       "      <th>Description</th>\n",
       "      <th>Quantity</th>\n",
       "      <th>InvoiceDate</th>\n",
       "      <th>Price</th>\n",
       "      <th>DayofWeek</th>\n",
       "    </tr>\n",
       "  </thead>\n",
       "  <tbody>\n",
       "    <tr>\n",
       "      <th>0</th>\n",
       "      <td>85048</td>\n",
       "      <td>15CM CHRISTMAS GLASS BALL 20 LIGHTS</td>\n",
       "      <td>12</td>\n",
       "      <td>2009-12-01 07:45:00</td>\n",
       "      <td>6.95</td>\n",
       "      <td>Tuesday</td>\n",
       "    </tr>\n",
       "    <tr>\n",
       "      <th>1</th>\n",
       "      <td>79323P</td>\n",
       "      <td>PINK CHERRY LIGHTS</td>\n",
       "      <td>12</td>\n",
       "      <td>2009-12-01 07:45:00</td>\n",
       "      <td>6.75</td>\n",
       "      <td>Tuesday</td>\n",
       "    </tr>\n",
       "    <tr>\n",
       "      <th>2</th>\n",
       "      <td>79323W</td>\n",
       "      <td>WHITE CHERRY LIGHTS</td>\n",
       "      <td>12</td>\n",
       "      <td>2009-12-01 07:45:00</td>\n",
       "      <td>6.75</td>\n",
       "      <td>Tuesday</td>\n",
       "    </tr>\n",
       "    <tr>\n",
       "      <th>3</th>\n",
       "      <td>22041</td>\n",
       "      <td>RECORD FRAME 7\" SINGLE SIZE</td>\n",
       "      <td>48</td>\n",
       "      <td>2009-12-01 07:45:00</td>\n",
       "      <td>2.10</td>\n",
       "      <td>Tuesday</td>\n",
       "    </tr>\n",
       "    <tr>\n",
       "      <th>4</th>\n",
       "      <td>21232</td>\n",
       "      <td>STRAWBERRY CERAMIC TRINKET BOX</td>\n",
       "      <td>24</td>\n",
       "      <td>2009-12-01 07:45:00</td>\n",
       "      <td>1.25</td>\n",
       "      <td>Tuesday</td>\n",
       "    </tr>\n",
       "  </tbody>\n",
       "</table>\n",
       "</div>"
      ],
      "text/plain": [
       "  StockCode                          Description  Quantity  \\\n",
       "0     85048  15CM CHRISTMAS GLASS BALL 20 LIGHTS        12   \n",
       "1    79323P                   PINK CHERRY LIGHTS        12   \n",
       "2    79323W                  WHITE CHERRY LIGHTS        12   \n",
       "3     22041         RECORD FRAME 7\" SINGLE SIZE         48   \n",
       "4     21232       STRAWBERRY CERAMIC TRINKET BOX        24   \n",
       "\n",
       "          InvoiceDate  Price DayofWeek  \n",
       "0 2009-12-01 07:45:00   6.95   Tuesday  \n",
       "1 2009-12-01 07:45:00   6.75   Tuesday  \n",
       "2 2009-12-01 07:45:00   6.75   Tuesday  \n",
       "3 2009-12-01 07:45:00   2.10   Tuesday  \n",
       "4 2009-12-01 07:45:00   1.25   Tuesday  "
      ]
     },
     "execution_count": 16,
     "metadata": {},
     "output_type": "execute_result"
    }
   ],
   "source": [
    "df.head()"
   ]
  },
  {
   "cell_type": "code",
   "execution_count": 17,
   "id": "a991acb7-7cb3-4c06-b7da-40130f3e1b33",
   "metadata": {
    "tags": []
   },
   "outputs": [
    {
     "data": {
      "text/plain": [
       "StockCode         0\n",
       "Description    4275\n",
       "Quantity          0\n",
       "InvoiceDate       0\n",
       "Price             0\n",
       "DayofWeek         0\n",
       "dtype: int64"
      ]
     },
     "execution_count": 17,
     "metadata": {},
     "output_type": "execute_result"
    }
   ],
   "source": [
    "#Look at missing Values\n",
    "df.isnull().sum()"
   ]
  },
  {
   "cell_type": "code",
   "execution_count": 18,
   "id": "aaa2a5e3-578a-4504-a1ee-09c550ffe9e9",
   "metadata": {
    "tags": []
   },
   "outputs": [],
   "source": [
    "#Drop rows with Missing Description\n",
    "df.drop(df[df['Description'].isnull()].index, inplace = True)"
   ]
  },
  {
   "cell_type": "code",
   "execution_count": 19,
   "id": "7ffab7a4-5e21-4066-8e78-e9e31a5d8656",
   "metadata": {
    "tags": []
   },
   "outputs": [
    {
     "data": {
      "text/html": [
       "<div>\n",
       "<style scoped>\n",
       "    .dataframe tbody tr th:only-of-type {\n",
       "        vertical-align: middle;\n",
       "    }\n",
       "\n",
       "    .dataframe tbody tr th {\n",
       "        vertical-align: top;\n",
       "    }\n",
       "\n",
       "    .dataframe thead th {\n",
       "        text-align: right;\n",
       "    }\n",
       "</style>\n",
       "<table border=\"1\" class=\"dataframe\">\n",
       "  <thead>\n",
       "    <tr style=\"text-align: right;\">\n",
       "      <th></th>\n",
       "      <th>StockCode</th>\n",
       "      <th>Description</th>\n",
       "      <th>Quantity</th>\n",
       "      <th>InvoiceDate</th>\n",
       "      <th>Price</th>\n",
       "      <th>DayofWeek</th>\n",
       "    </tr>\n",
       "  </thead>\n",
       "  <tbody>\n",
       "    <tr>\n",
       "      <th>263</th>\n",
       "      <td>21733</td>\n",
       "      <td>85123a mixed</td>\n",
       "      <td>-96</td>\n",
       "      <td>2009-12-01 10:52:00</td>\n",
       "      <td>0.0</td>\n",
       "      <td>Tuesday</td>\n",
       "    </tr>\n",
       "    <tr>\n",
       "      <th>283</th>\n",
       "      <td>71477</td>\n",
       "      <td>short</td>\n",
       "      <td>-240</td>\n",
       "      <td>2009-12-01 10:52:00</td>\n",
       "      <td>0.0</td>\n",
       "      <td>Tuesday</td>\n",
       "    </tr>\n",
       "    <tr>\n",
       "      <th>284</th>\n",
       "      <td>85123A</td>\n",
       "      <td>21733 mixed</td>\n",
       "      <td>-192</td>\n",
       "      <td>2009-12-01 10:53:00</td>\n",
       "      <td>0.0</td>\n",
       "      <td>Tuesday</td>\n",
       "    </tr>\n",
       "    <tr>\n",
       "      <th>3162</th>\n",
       "      <td>35956</td>\n",
       "      <td>lost</td>\n",
       "      <td>-1043</td>\n",
       "      <td>2009-12-01 17:43:00</td>\n",
       "      <td>0.0</td>\n",
       "      <td>Tuesday</td>\n",
       "    </tr>\n",
       "    <tr>\n",
       "      <th>3168</th>\n",
       "      <td>35605A</td>\n",
       "      <td>damages</td>\n",
       "      <td>-117</td>\n",
       "      <td>2009-12-01 18:02:00</td>\n",
       "      <td>0.0</td>\n",
       "      <td>Tuesday</td>\n",
       "    </tr>\n",
       "    <tr>\n",
       "      <th>...</th>\n",
       "      <td>...</td>\n",
       "      <td>...</td>\n",
       "      <td>...</td>\n",
       "      <td>...</td>\n",
       "      <td>...</td>\n",
       "      <td>...</td>\n",
       "    </tr>\n",
       "    <tr>\n",
       "      <th>1060797</th>\n",
       "      <td>22576</td>\n",
       "      <td>check</td>\n",
       "      <td>-30</td>\n",
       "      <td>2011-12-07 18:38:00</td>\n",
       "      <td>0.0</td>\n",
       "      <td>Wednesday</td>\n",
       "    </tr>\n",
       "    <tr>\n",
       "      <th>1062371</th>\n",
       "      <td>23090</td>\n",
       "      <td>missing</td>\n",
       "      <td>-338</td>\n",
       "      <td>2011-12-08 09:56:00</td>\n",
       "      <td>0.0</td>\n",
       "      <td>Thursday</td>\n",
       "    </tr>\n",
       "    <tr>\n",
       "      <th>1063965</th>\n",
       "      <td>46000M</td>\n",
       "      <td>POLYESTER FILLER PAD 45x45cm</td>\n",
       "      <td>240</td>\n",
       "      <td>2011-12-08 13:58:00</td>\n",
       "      <td>0.0</td>\n",
       "      <td>Thursday</td>\n",
       "    </tr>\n",
       "    <tr>\n",
       "      <th>1063966</th>\n",
       "      <td>46000S</td>\n",
       "      <td>POLYESTER FILLER PAD 40x40cm</td>\n",
       "      <td>300</td>\n",
       "      <td>2011-12-08 13:58:00</td>\n",
       "      <td>0.0</td>\n",
       "      <td>Thursday</td>\n",
       "    </tr>\n",
       "    <tr>\n",
       "      <th>1064386</th>\n",
       "      <td>23169</td>\n",
       "      <td>smashed</td>\n",
       "      <td>-235</td>\n",
       "      <td>2011-12-08 15:24:00</td>\n",
       "      <td>0.0</td>\n",
       "      <td>Thursday</td>\n",
       "    </tr>\n",
       "  </tbody>\n",
       "</table>\n",
       "<p>1712 rows × 6 columns</p>\n",
       "</div>"
      ],
      "text/plain": [
       "        StockCode                   Description  Quantity         InvoiceDate  \\\n",
       "263         21733                  85123a mixed       -96 2009-12-01 10:52:00   \n",
       "283         71477                         short      -240 2009-12-01 10:52:00   \n",
       "284        85123A                   21733 mixed      -192 2009-12-01 10:53:00   \n",
       "3162        35956                          lost     -1043 2009-12-01 17:43:00   \n",
       "3168       35605A                       damages      -117 2009-12-01 18:02:00   \n",
       "...           ...                           ...       ...                 ...   \n",
       "1060797     22576                         check       -30 2011-12-07 18:38:00   \n",
       "1062371     23090                       missing      -338 2011-12-08 09:56:00   \n",
       "1063965    46000M  POLYESTER FILLER PAD 45x45cm       240 2011-12-08 13:58:00   \n",
       "1063966    46000S  POLYESTER FILLER PAD 40x40cm       300 2011-12-08 13:58:00   \n",
       "1064386     23169                       smashed      -235 2011-12-08 15:24:00   \n",
       "\n",
       "         Price  DayofWeek  \n",
       "263        0.0    Tuesday  \n",
       "283        0.0    Tuesday  \n",
       "284        0.0    Tuesday  \n",
       "3162       0.0    Tuesday  \n",
       "3168       0.0    Tuesday  \n",
       "...        ...        ...  \n",
       "1060797    0.0  Wednesday  \n",
       "1062371    0.0   Thursday  \n",
       "1063965    0.0   Thursday  \n",
       "1063966    0.0   Thursday  \n",
       "1064386    0.0   Thursday  \n",
       "\n",
       "[1712 rows x 6 columns]"
      ]
     },
     "execution_count": 19,
     "metadata": {},
     "output_type": "execute_result"
    }
   ],
   "source": [
    "#Look at Rows with '0.0' Price \n",
    "df[(df['Price']==0.0)]"
   ]
  },
  {
   "cell_type": "code",
   "execution_count": 20,
   "id": "f378b858-e080-4f21-9afb-f789d09e6f88",
   "metadata": {
    "tags": []
   },
   "outputs": [],
   "source": [
    "df.drop(df[df['Price']==0.0].index, inplace = True)"
   ]
  },
  {
   "cell_type": "code",
   "execution_count": 21,
   "id": "d53dfd59-7027-4b84-84fd-b659627b6e24",
   "metadata": {
    "tags": []
   },
   "outputs": [
    {
     "data": {
      "text/html": [
       "<div>\n",
       "<style scoped>\n",
       "    .dataframe tbody tr th:only-of-type {\n",
       "        vertical-align: middle;\n",
       "    }\n",
       "\n",
       "    .dataframe tbody tr th {\n",
       "        vertical-align: top;\n",
       "    }\n",
       "\n",
       "    .dataframe thead th {\n",
       "        text-align: right;\n",
       "    }\n",
       "</style>\n",
       "<table border=\"1\" class=\"dataframe\">\n",
       "  <thead>\n",
       "    <tr style=\"text-align: right;\">\n",
       "      <th></th>\n",
       "      <th>StockCode</th>\n",
       "      <th>Description</th>\n",
       "      <th>Quantity</th>\n",
       "      <th>InvoiceDate</th>\n",
       "      <th>Price</th>\n",
       "      <th>DayofWeek</th>\n",
       "    </tr>\n",
       "  </thead>\n",
       "  <tbody>\n",
       "    <tr>\n",
       "      <th>179403</th>\n",
       "      <td>B</td>\n",
       "      <td>Adjust bad debt</td>\n",
       "      <td>1</td>\n",
       "      <td>2010-04-29 13:36:00</td>\n",
       "      <td>-53594.36</td>\n",
       "      <td>Thursday</td>\n",
       "    </tr>\n",
       "    <tr>\n",
       "      <th>276274</th>\n",
       "      <td>B</td>\n",
       "      <td>Adjust bad debt</td>\n",
       "      <td>1</td>\n",
       "      <td>2010-07-19 11:24:00</td>\n",
       "      <td>-44031.79</td>\n",
       "      <td>Monday</td>\n",
       "    </tr>\n",
       "    <tr>\n",
       "      <th>403472</th>\n",
       "      <td>B</td>\n",
       "      <td>Adjust bad debt</td>\n",
       "      <td>1</td>\n",
       "      <td>2010-10-20 12:04:00</td>\n",
       "      <td>-38925.87</td>\n",
       "      <td>Wednesday</td>\n",
       "    </tr>\n",
       "    <tr>\n",
       "      <th>825444</th>\n",
       "      <td>B</td>\n",
       "      <td>Adjust bad debt</td>\n",
       "      <td>1</td>\n",
       "      <td>2011-08-12 14:51:00</td>\n",
       "      <td>-11062.06</td>\n",
       "      <td>Friday</td>\n",
       "    </tr>\n",
       "    <tr>\n",
       "      <th>825445</th>\n",
       "      <td>B</td>\n",
       "      <td>Adjust bad debt</td>\n",
       "      <td>1</td>\n",
       "      <td>2011-08-12 14:52:00</td>\n",
       "      <td>-11062.06</td>\n",
       "      <td>Friday</td>\n",
       "    </tr>\n",
       "  </tbody>\n",
       "</table>\n",
       "</div>"
      ],
      "text/plain": [
       "       StockCode      Description  Quantity         InvoiceDate     Price  \\\n",
       "179403         B  Adjust bad debt         1 2010-04-29 13:36:00 -53594.36   \n",
       "276274         B  Adjust bad debt         1 2010-07-19 11:24:00 -44031.79   \n",
       "403472         B  Adjust bad debt         1 2010-10-20 12:04:00 -38925.87   \n",
       "825444         B  Adjust bad debt         1 2011-08-12 14:51:00 -11062.06   \n",
       "825445         B  Adjust bad debt         1 2011-08-12 14:52:00 -11062.06   \n",
       "\n",
       "        DayofWeek  \n",
       "179403   Thursday  \n",
       "276274     Monday  \n",
       "403472  Wednesday  \n",
       "825444     Friday  \n",
       "825445     Friday  "
      ]
     },
     "execution_count": 21,
     "metadata": {},
     "output_type": "execute_result"
    }
   ],
   "source": [
    "#Remove returns (Negative price)\n",
    "df[(df['Price'] < 0.0)]"
   ]
  },
  {
   "cell_type": "code",
   "execution_count": 22,
   "id": "e1273a9f-70bb-434b-ad7f-91137d1e5788",
   "metadata": {
    "tags": []
   },
   "outputs": [],
   "source": [
    "df.drop(df[(df['Price'] < 0.0)].index,inplace=True)"
   ]
  },
  {
   "cell_type": "code",
   "execution_count": 23,
   "id": "2d201816-ca86-44a6-a9f0-387bb591dea0",
   "metadata": {
    "tags": []
   },
   "outputs": [
    {
     "data": {
      "text/html": [
       "<div>\n",
       "<style scoped>\n",
       "    .dataframe tbody tr th:only-of-type {\n",
       "        vertical-align: middle;\n",
       "    }\n",
       "\n",
       "    .dataframe tbody tr th {\n",
       "        vertical-align: top;\n",
       "    }\n",
       "\n",
       "    .dataframe thead th {\n",
       "        text-align: right;\n",
       "    }\n",
       "</style>\n",
       "<table border=\"1\" class=\"dataframe\">\n",
       "  <thead>\n",
       "    <tr style=\"text-align: right;\">\n",
       "      <th></th>\n",
       "      <th>StockCode</th>\n",
       "      <th>Description</th>\n",
       "      <th>Quantity</th>\n",
       "      <th>InvoiceDate</th>\n",
       "      <th>Price</th>\n",
       "      <th>DayofWeek</th>\n",
       "    </tr>\n",
       "  </thead>\n",
       "  <tbody>\n",
       "    <tr>\n",
       "      <th>196</th>\n",
       "      <td>90200A</td>\n",
       "      <td>PURPLE SWEETHEART BRACELET</td>\n",
       "      <td>-3</td>\n",
       "      <td>2009-12-01 10:44:00</td>\n",
       "      <td>4.25</td>\n",
       "      <td>Tuesday</td>\n",
       "    </tr>\n",
       "    <tr>\n",
       "      <th>197</th>\n",
       "      <td>90200D</td>\n",
       "      <td>PINK SWEETHEART BRACELET</td>\n",
       "      <td>-3</td>\n",
       "      <td>2009-12-01 10:44:00</td>\n",
       "      <td>4.25</td>\n",
       "      <td>Tuesday</td>\n",
       "    </tr>\n",
       "    <tr>\n",
       "      <th>198</th>\n",
       "      <td>90200B</td>\n",
       "      <td>BLACK SWEETHEART BRACELET</td>\n",
       "      <td>-3</td>\n",
       "      <td>2009-12-01 10:44:00</td>\n",
       "      <td>4.25</td>\n",
       "      <td>Tuesday</td>\n",
       "    </tr>\n",
       "    <tr>\n",
       "      <th>199</th>\n",
       "      <td>90200E</td>\n",
       "      <td>GREEN SWEETHEART BRACELET</td>\n",
       "      <td>-3</td>\n",
       "      <td>2009-12-01 10:44:00</td>\n",
       "      <td>4.25</td>\n",
       "      <td>Tuesday</td>\n",
       "    </tr>\n",
       "    <tr>\n",
       "      <th>200</th>\n",
       "      <td>90200C</td>\n",
       "      <td>BLUE SWEETHEART BRACELET</td>\n",
       "      <td>-3</td>\n",
       "      <td>2009-12-01 10:44:00</td>\n",
       "      <td>4.25</td>\n",
       "      <td>Tuesday</td>\n",
       "    </tr>\n",
       "    <tr>\n",
       "      <th>...</th>\n",
       "      <td>...</td>\n",
       "      <td>...</td>\n",
       "      <td>...</td>\n",
       "      <td>...</td>\n",
       "      <td>...</td>\n",
       "      <td>...</td>\n",
       "    </tr>\n",
       "    <tr>\n",
       "      <th>1065910</th>\n",
       "      <td>23144</td>\n",
       "      <td>ZINC T-LIGHT HOLDER STARS SMALL</td>\n",
       "      <td>-11</td>\n",
       "      <td>2011-12-09 09:57:00</td>\n",
       "      <td>0.83</td>\n",
       "      <td>Friday</td>\n",
       "    </tr>\n",
       "    <tr>\n",
       "      <th>1067002</th>\n",
       "      <td>M</td>\n",
       "      <td>Manual</td>\n",
       "      <td>-1</td>\n",
       "      <td>2011-12-09 10:28:00</td>\n",
       "      <td>224.69</td>\n",
       "      <td>Friday</td>\n",
       "    </tr>\n",
       "    <tr>\n",
       "      <th>1067176</th>\n",
       "      <td>21258</td>\n",
       "      <td>VICTORIAN SEWING BOX LARGE</td>\n",
       "      <td>-5</td>\n",
       "      <td>2011-12-09 11:57:00</td>\n",
       "      <td>10.95</td>\n",
       "      <td>Friday</td>\n",
       "    </tr>\n",
       "    <tr>\n",
       "      <th>1067177</th>\n",
       "      <td>84978</td>\n",
       "      <td>HANGING HEART JAR T-LIGHT HOLDER</td>\n",
       "      <td>-1</td>\n",
       "      <td>2011-12-09 11:58:00</td>\n",
       "      <td>1.25</td>\n",
       "      <td>Friday</td>\n",
       "    </tr>\n",
       "    <tr>\n",
       "      <th>1067178</th>\n",
       "      <td>20979</td>\n",
       "      <td>36 PENCILS TUBE RED RETROSPOT</td>\n",
       "      <td>-5</td>\n",
       "      <td>2011-12-09 11:58:00</td>\n",
       "      <td>1.25</td>\n",
       "      <td>Friday</td>\n",
       "    </tr>\n",
       "  </tbody>\n",
       "</table>\n",
       "<p>16290 rows × 6 columns</p>\n",
       "</div>"
      ],
      "text/plain": [
       "        StockCode                       Description  Quantity  \\\n",
       "196        90200A        PURPLE SWEETHEART BRACELET        -3   \n",
       "197        90200D          PINK SWEETHEART BRACELET        -3   \n",
       "198        90200B         BLACK SWEETHEART BRACELET        -3   \n",
       "199        90200E         GREEN SWEETHEART BRACELET        -3   \n",
       "200        90200C          BLUE SWEETHEART BRACELET        -3   \n",
       "...           ...                               ...       ...   \n",
       "1065910     23144   ZINC T-LIGHT HOLDER STARS SMALL       -11   \n",
       "1067002         M                            Manual        -1   \n",
       "1067176     21258        VICTORIAN SEWING BOX LARGE        -5   \n",
       "1067177     84978  HANGING HEART JAR T-LIGHT HOLDER        -1   \n",
       "1067178     20979     36 PENCILS TUBE RED RETROSPOT        -5   \n",
       "\n",
       "                InvoiceDate   Price DayofWeek  \n",
       "196     2009-12-01 10:44:00    4.25   Tuesday  \n",
       "197     2009-12-01 10:44:00    4.25   Tuesday  \n",
       "198     2009-12-01 10:44:00    4.25   Tuesday  \n",
       "199     2009-12-01 10:44:00    4.25   Tuesday  \n",
       "200     2009-12-01 10:44:00    4.25   Tuesday  \n",
       "...                     ...     ...       ...  \n",
       "1065910 2011-12-09 09:57:00    0.83    Friday  \n",
       "1067002 2011-12-09 10:28:00  224.69    Friday  \n",
       "1067176 2011-12-09 11:57:00   10.95    Friday  \n",
       "1067177 2011-12-09 11:58:00    1.25    Friday  \n",
       "1067178 2011-12-09 11:58:00    1.25    Friday  \n",
       "\n",
       "[16290 rows x 6 columns]"
      ]
     },
     "execution_count": 23,
     "metadata": {},
     "output_type": "execute_result"
    }
   ],
   "source": [
    "#Remove Negatives in Quantity Column\n",
    "df[(df['Quantity'] < 0.0)]"
   ]
  },
  {
   "cell_type": "code",
   "execution_count": 24,
   "id": "c89ff70c-250b-4cc9-a2a0-55b2d2b0f38b",
   "metadata": {
    "tags": []
   },
   "outputs": [],
   "source": [
    "df.drop(df[(df['Quantity'] < 0.0)].index,inplace=True)"
   ]
  },
  {
   "cell_type": "code",
   "execution_count": 25,
   "id": "a181b5c6-b778-4700-aba8-edce72475e69",
   "metadata": {
    "tags": []
   },
   "outputs": [
    {
     "name": "stdout",
     "output_type": "stream",
     "text": [
      "<class 'pandas.core.frame.DataFrame'>\n",
      "Index: 926039 entries, 0 to 1067354\n",
      "Data columns (total 6 columns):\n",
      " #   Column       Non-Null Count   Dtype         \n",
      "---  ------       --------------   -----         \n",
      " 0   StockCode    926039 non-null  object        \n",
      " 1   Description  926039 non-null  object        \n",
      " 2   Quantity     926039 non-null  int64         \n",
      " 3   InvoiceDate  926039 non-null  datetime64[ns]\n",
      " 4   Price        926039 non-null  float64       \n",
      " 5   DayofWeek    926039 non-null  object        \n",
      "dtypes: datetime64[ns](1), float64(1), int64(1), object(3)\n",
      "memory usage: 49.5+ MB\n"
     ]
    }
   ],
   "source": [
    "df.info()"
   ]
  },
  {
   "cell_type": "markdown",
   "id": "aa75c12c-14c3-4f58-b2b7-52b4822e8385",
   "metadata": {},
   "source": [
    "#### Create a daily sales data set by Product\n",
    "We want to analyse the daily sales of the product\n",
    "\n",
    "Add the date\n",
    "\n",
    "We are not interested by the variation between the day or by customer we add a date to allow to group by date"
   ]
  },
  {
   "cell_type": "code",
   "execution_count": 26,
   "id": "afc6ebdb-2442-48fb-b6b1-4cab61d2140e",
   "metadata": {
    "tags": []
   },
   "outputs": [
    {
     "data": {
      "text/html": [
       "<div>\n",
       "<style scoped>\n",
       "    .dataframe tbody tr th:only-of-type {\n",
       "        vertical-align: middle;\n",
       "    }\n",
       "\n",
       "    .dataframe tbody tr th {\n",
       "        vertical-align: top;\n",
       "    }\n",
       "\n",
       "    .dataframe thead th {\n",
       "        text-align: right;\n",
       "    }\n",
       "</style>\n",
       "<table border=\"1\" class=\"dataframe\">\n",
       "  <thead>\n",
       "    <tr style=\"text-align: right;\">\n",
       "      <th></th>\n",
       "      <th>StockCode</th>\n",
       "      <th>Description</th>\n",
       "      <th>Quantity</th>\n",
       "      <th>InvoiceDate</th>\n",
       "      <th>Price</th>\n",
       "      <th>DayofWeek</th>\n",
       "      <th>Date</th>\n",
       "    </tr>\n",
       "  </thead>\n",
       "  <tbody>\n",
       "    <tr>\n",
       "      <th>0</th>\n",
       "      <td>85048</td>\n",
       "      <td>15CM CHRISTMAS GLASS BALL 20 LIGHTS</td>\n",
       "      <td>12</td>\n",
       "      <td>2009-12-01 07:45:00</td>\n",
       "      <td>6.95</td>\n",
       "      <td>Tuesday</td>\n",
       "      <td>2009-12-01</td>\n",
       "    </tr>\n",
       "    <tr>\n",
       "      <th>1</th>\n",
       "      <td>79323P</td>\n",
       "      <td>PINK CHERRY LIGHTS</td>\n",
       "      <td>12</td>\n",
       "      <td>2009-12-01 07:45:00</td>\n",
       "      <td>6.75</td>\n",
       "      <td>Tuesday</td>\n",
       "      <td>2009-12-01</td>\n",
       "    </tr>\n",
       "    <tr>\n",
       "      <th>2</th>\n",
       "      <td>79323W</td>\n",
       "      <td>WHITE CHERRY LIGHTS</td>\n",
       "      <td>12</td>\n",
       "      <td>2009-12-01 07:45:00</td>\n",
       "      <td>6.75</td>\n",
       "      <td>Tuesday</td>\n",
       "      <td>2009-12-01</td>\n",
       "    </tr>\n",
       "    <tr>\n",
       "      <th>3</th>\n",
       "      <td>22041</td>\n",
       "      <td>RECORD FRAME 7\" SINGLE SIZE</td>\n",
       "      <td>48</td>\n",
       "      <td>2009-12-01 07:45:00</td>\n",
       "      <td>2.10</td>\n",
       "      <td>Tuesday</td>\n",
       "      <td>2009-12-01</td>\n",
       "    </tr>\n",
       "    <tr>\n",
       "      <th>4</th>\n",
       "      <td>21232</td>\n",
       "      <td>STRAWBERRY CERAMIC TRINKET BOX</td>\n",
       "      <td>24</td>\n",
       "      <td>2009-12-01 07:45:00</td>\n",
       "      <td>1.25</td>\n",
       "      <td>Tuesday</td>\n",
       "      <td>2009-12-01</td>\n",
       "    </tr>\n",
       "  </tbody>\n",
       "</table>\n",
       "</div>"
      ],
      "text/plain": [
       "  StockCode                          Description  Quantity  \\\n",
       "0     85048  15CM CHRISTMAS GLASS BALL 20 LIGHTS        12   \n",
       "1    79323P                   PINK CHERRY LIGHTS        12   \n",
       "2    79323W                  WHITE CHERRY LIGHTS        12   \n",
       "3     22041         RECORD FRAME 7\" SINGLE SIZE         48   \n",
       "4     21232       STRAWBERRY CERAMIC TRINKET BOX        24   \n",
       "\n",
       "          InvoiceDate  Price DayofWeek        Date  \n",
       "0 2009-12-01 07:45:00   6.95   Tuesday  2009-12-01  \n",
       "1 2009-12-01 07:45:00   6.75   Tuesday  2009-12-01  \n",
       "2 2009-12-01 07:45:00   6.75   Tuesday  2009-12-01  \n",
       "3 2009-12-01 07:45:00   2.10   Tuesday  2009-12-01  \n",
       "4 2009-12-01 07:45:00   1.25   Tuesday  2009-12-01  "
      ]
     },
     "execution_count": 26,
     "metadata": {},
     "output_type": "execute_result"
    }
   ],
   "source": [
    "df['Date'] = df['InvoiceDate'].dt.date\n",
    "df.head()"
   ]
  },
  {
   "cell_type": "code",
   "execution_count": 27,
   "id": "e3c137af-9dde-429a-af07-d5524c7f2f63",
   "metadata": {
    "tags": []
   },
   "outputs": [
    {
     "data": {
      "text/html": [
       "<div>\n",
       "<style scoped>\n",
       "    .dataframe tbody tr th:only-of-type {\n",
       "        vertical-align: middle;\n",
       "    }\n",
       "\n",
       "    .dataframe tbody tr th {\n",
       "        vertical-align: top;\n",
       "    }\n",
       "\n",
       "    .dataframe thead th {\n",
       "        text-align: right;\n",
       "    }\n",
       "</style>\n",
       "<table border=\"1\" class=\"dataframe\">\n",
       "  <thead>\n",
       "    <tr style=\"text-align: right;\">\n",
       "      <th></th>\n",
       "      <th>StockCode</th>\n",
       "      <th>Description</th>\n",
       "      <th>Quantity</th>\n",
       "      <th>InvoiceDate</th>\n",
       "      <th>Price</th>\n",
       "      <th>DayofWeek</th>\n",
       "      <th>Date</th>\n",
       "      <th>Month</th>\n",
       "    </tr>\n",
       "  </thead>\n",
       "  <tbody>\n",
       "    <tr>\n",
       "      <th>0</th>\n",
       "      <td>85048</td>\n",
       "      <td>15CM CHRISTMAS GLASS BALL 20 LIGHTS</td>\n",
       "      <td>12</td>\n",
       "      <td>2009-12-01 07:45:00</td>\n",
       "      <td>6.95</td>\n",
       "      <td>Tuesday</td>\n",
       "      <td>2009-12-01</td>\n",
       "      <td>12</td>\n",
       "    </tr>\n",
       "    <tr>\n",
       "      <th>1</th>\n",
       "      <td>79323P</td>\n",
       "      <td>PINK CHERRY LIGHTS</td>\n",
       "      <td>12</td>\n",
       "      <td>2009-12-01 07:45:00</td>\n",
       "      <td>6.75</td>\n",
       "      <td>Tuesday</td>\n",
       "      <td>2009-12-01</td>\n",
       "      <td>12</td>\n",
       "    </tr>\n",
       "    <tr>\n",
       "      <th>2</th>\n",
       "      <td>79323W</td>\n",
       "      <td>WHITE CHERRY LIGHTS</td>\n",
       "      <td>12</td>\n",
       "      <td>2009-12-01 07:45:00</td>\n",
       "      <td>6.75</td>\n",
       "      <td>Tuesday</td>\n",
       "      <td>2009-12-01</td>\n",
       "      <td>12</td>\n",
       "    </tr>\n",
       "    <tr>\n",
       "      <th>3</th>\n",
       "      <td>22041</td>\n",
       "      <td>RECORD FRAME 7\" SINGLE SIZE</td>\n",
       "      <td>48</td>\n",
       "      <td>2009-12-01 07:45:00</td>\n",
       "      <td>2.10</td>\n",
       "      <td>Tuesday</td>\n",
       "      <td>2009-12-01</td>\n",
       "      <td>12</td>\n",
       "    </tr>\n",
       "    <tr>\n",
       "      <th>4</th>\n",
       "      <td>21232</td>\n",
       "      <td>STRAWBERRY CERAMIC TRINKET BOX</td>\n",
       "      <td>24</td>\n",
       "      <td>2009-12-01 07:45:00</td>\n",
       "      <td>1.25</td>\n",
       "      <td>Tuesday</td>\n",
       "      <td>2009-12-01</td>\n",
       "      <td>12</td>\n",
       "    </tr>\n",
       "  </tbody>\n",
       "</table>\n",
       "</div>"
      ],
      "text/plain": [
       "  StockCode                          Description  Quantity  \\\n",
       "0     85048  15CM CHRISTMAS GLASS BALL 20 LIGHTS        12   \n",
       "1    79323P                   PINK CHERRY LIGHTS        12   \n",
       "2    79323W                  WHITE CHERRY LIGHTS        12   \n",
       "3     22041         RECORD FRAME 7\" SINGLE SIZE         48   \n",
       "4     21232       STRAWBERRY CERAMIC TRINKET BOX        24   \n",
       "\n",
       "          InvoiceDate  Price DayofWeek        Date  Month  \n",
       "0 2009-12-01 07:45:00   6.95   Tuesday  2009-12-01     12  \n",
       "1 2009-12-01 07:45:00   6.75   Tuesday  2009-12-01     12  \n",
       "2 2009-12-01 07:45:00   6.75   Tuesday  2009-12-01     12  \n",
       "3 2009-12-01 07:45:00   2.10   Tuesday  2009-12-01     12  \n",
       "4 2009-12-01 07:45:00   1.25   Tuesday  2009-12-01     12  "
      ]
     },
     "execution_count": 27,
     "metadata": {},
     "output_type": "execute_result"
    }
   ],
   "source": [
    "df['Month'] = df['InvoiceDate'].dt.month\n",
    "df.head()"
   ]
  },
  {
   "cell_type": "markdown",
   "id": "815f7444-456e-47fb-b255-3a754e558018",
   "metadata": {},
   "source": [
    "#### Group by Date and Product"
   ]
  },
  {
   "cell_type": "code",
   "execution_count": 28,
   "id": "f8289d19-cb42-42fb-a652-b75b2ca1d6d0",
   "metadata": {
    "tags": []
   },
   "outputs": [
    {
     "data": {
      "text/html": [
       "<div>\n",
       "<style scoped>\n",
       "    .dataframe tbody tr th:only-of-type {\n",
       "        vertical-align: middle;\n",
       "    }\n",
       "\n",
       "    .dataframe tbody tr th {\n",
       "        vertical-align: top;\n",
       "    }\n",
       "\n",
       "    .dataframe thead th {\n",
       "        text-align: right;\n",
       "    }\n",
       "</style>\n",
       "<table border=\"1\" class=\"dataframe\">\n",
       "  <thead>\n",
       "    <tr style=\"text-align: right;\">\n",
       "      <th></th>\n",
       "      <th>Description</th>\n",
       "      <th>Date</th>\n",
       "      <th>DayofWeek</th>\n",
       "      <th>Month</th>\n",
       "      <th>Quantity</th>\n",
       "      <th>Price</th>\n",
       "    </tr>\n",
       "  </thead>\n",
       "  <tbody>\n",
       "    <tr>\n",
       "      <th>0</th>\n",
       "      <td>DOORMAT UNION JACK GUNS AND ROSES</td>\n",
       "      <td>2010-01-05</td>\n",
       "      <td>Tuesday</td>\n",
       "      <td>1</td>\n",
       "      <td>1</td>\n",
       "      <td>6.750000</td>\n",
       "    </tr>\n",
       "    <tr>\n",
       "      <th>1</th>\n",
       "      <td>DOORMAT UNION JACK GUNS AND ROSES</td>\n",
       "      <td>2010-01-08</td>\n",
       "      <td>Friday</td>\n",
       "      <td>1</td>\n",
       "      <td>12</td>\n",
       "      <td>6.483333</td>\n",
       "    </tr>\n",
       "    <tr>\n",
       "      <th>2</th>\n",
       "      <td>DOORMAT UNION JACK GUNS AND ROSES</td>\n",
       "      <td>2010-01-10</td>\n",
       "      <td>Sunday</td>\n",
       "      <td>1</td>\n",
       "      <td>3</td>\n",
       "      <td>6.750000</td>\n",
       "    </tr>\n",
       "    <tr>\n",
       "      <th>3</th>\n",
       "      <td>DOORMAT UNION JACK GUNS AND ROSES</td>\n",
       "      <td>2010-01-11</td>\n",
       "      <td>Monday</td>\n",
       "      <td>1</td>\n",
       "      <td>15</td>\n",
       "      <td>6.350000</td>\n",
       "    </tr>\n",
       "    <tr>\n",
       "      <th>4</th>\n",
       "      <td>DOORMAT UNION JACK GUNS AND ROSES</td>\n",
       "      <td>2010-01-12</td>\n",
       "      <td>Tuesday</td>\n",
       "      <td>1</td>\n",
       "      <td>1</td>\n",
       "      <td>6.750000</td>\n",
       "    </tr>\n",
       "  </tbody>\n",
       "</table>\n",
       "</div>"
      ],
      "text/plain": [
       "                           Description        Date DayofWeek  Month  Quantity  \\\n",
       "0    DOORMAT UNION JACK GUNS AND ROSES  2010-01-05   Tuesday      1         1   \n",
       "1    DOORMAT UNION JACK GUNS AND ROSES  2010-01-08    Friday      1        12   \n",
       "2    DOORMAT UNION JACK GUNS AND ROSES  2010-01-10    Sunday      1         3   \n",
       "3    DOORMAT UNION JACK GUNS AND ROSES  2010-01-11    Monday      1        15   \n",
       "4    DOORMAT UNION JACK GUNS AND ROSES  2010-01-12   Tuesday      1         1   \n",
       "\n",
       "      Price  \n",
       "0  6.750000  \n",
       "1  6.483333  \n",
       "2  6.750000  \n",
       "3  6.350000  \n",
       "4  6.750000  "
      ]
     },
     "execution_count": 28,
     "metadata": {},
     "output_type": "execute_result"
    }
   ],
   "source": [
    "daily_df = df.groupby(['Description','Date', 'DayofWeek', 'Month']).aggregate({'Quantity':'sum','Price':'mean'}).reset_index()\n",
    "daily_df.head()"
   ]
  },
  {
   "cell_type": "code",
   "execution_count": 29,
   "id": "b8424108-b5ce-4fe7-a03c-0b3fc1f7b83e",
   "metadata": {
    "tags": []
   },
   "outputs": [
    {
     "name": "stdout",
     "output_type": "stream",
     "text": [
      "<class 'pandas.core.frame.DataFrame'>\n",
      "RangeIndex: 505289 entries, 0 to 505288\n",
      "Data columns (total 6 columns):\n",
      " #   Column       Non-Null Count   Dtype  \n",
      "---  ------       --------------   -----  \n",
      " 0   Description  505289 non-null  object \n",
      " 1   Date         505289 non-null  object \n",
      " 2   DayofWeek    505289 non-null  object \n",
      " 3   Month        505289 non-null  int32  \n",
      " 4   Quantity     505289 non-null  int64  \n",
      " 5   Price        505289 non-null  float64\n",
      "dtypes: float64(1), int32(1), int64(1), object(3)\n",
      "memory usage: 21.2+ MB\n"
     ]
    }
   ],
   "source": [
    "daily_df.info()"
   ]
  },
  {
   "cell_type": "markdown",
   "id": "66b1c917-6034-4471-b630-453b94589709",
   "metadata": {},
   "source": [
    "#### Select product with sufficient number of sales days\n",
    "To analyse seasonality we need product with at least 200 days of sales"
   ]
  },
  {
   "cell_type": "code",
   "execution_count": 30,
   "id": "632dde24-e0b6-4491-bae7-d443ad2cbacf",
   "metadata": {
    "tags": []
   },
   "outputs": [
    {
     "data": {
      "text/plain": [
       "Description\n",
       "WHITE HANGING HEART T-LIGHT HOLDER    602\n",
       "ASSORTED COLOUR BIRD ORNAMENT         579\n",
       "LUNCH BAG  BLACK SKULL.               578\n",
       "JUMBO STORAGE BAG SUKI                576\n",
       "HOME BUILDING BLOCK WORD              568\n",
       "                                     ... \n",
       "BENDY COLOUR PENCILS                    1\n",
       "WHITE ROHMBIC BLOCK TABLE LAMP          1\n",
       "DOLLY GIRL MINI RUCKSACK                1\n",
       "OWLS CHARLOTTE BAG                      1\n",
       "FRENCH ENAMEL SOAP DISH WITH LID        1\n",
       "Name: count, Length: 5369, dtype: int64"
      ]
     },
     "execution_count": 30,
     "metadata": {},
     "output_type": "execute_result"
    }
   ],
   "source": [
    "daily_df['Description'].value_counts()"
   ]
  },
  {
   "cell_type": "code",
   "execution_count": 32,
   "id": "41081550-3d50-40b3-af86-e4dca5b9bfa1",
   "metadata": {},
   "outputs": [
    {
     "data": {
      "text/html": [
       "<div>\n",
       "<style scoped>\n",
       "    .dataframe tbody tr th:only-of-type {\n",
       "        vertical-align: middle;\n",
       "    }\n",
       "\n",
       "    .dataframe tbody tr th {\n",
       "        vertical-align: top;\n",
       "    }\n",
       "\n",
       "    .dataframe thead th {\n",
       "        text-align: right;\n",
       "    }\n",
       "</style>\n",
       "<table border=\"1\" class=\"dataframe\">\n",
       "  <thead>\n",
       "    <tr style=\"text-align: right;\">\n",
       "      <th></th>\n",
       "      <th>Description</th>\n",
       "      <th>Date</th>\n",
       "      <th>DayofWeek</th>\n",
       "      <th>Month</th>\n",
       "      <th>Quantity</th>\n",
       "      <th>Price</th>\n",
       "      <th>NumberOfSaleDays</th>\n",
       "    </tr>\n",
       "  </thead>\n",
       "  <tbody>\n",
       "    <tr>\n",
       "      <th>0</th>\n",
       "      <td>DOORMAT UNION JACK GUNS AND ROSES</td>\n",
       "      <td>2010-01-05</td>\n",
       "      <td>Tuesday</td>\n",
       "      <td>1</td>\n",
       "      <td>1</td>\n",
       "      <td>6.750000</td>\n",
       "      <td>26</td>\n",
       "    </tr>\n",
       "    <tr>\n",
       "      <th>1</th>\n",
       "      <td>DOORMAT UNION JACK GUNS AND ROSES</td>\n",
       "      <td>2010-01-08</td>\n",
       "      <td>Friday</td>\n",
       "      <td>1</td>\n",
       "      <td>12</td>\n",
       "      <td>6.483333</td>\n",
       "      <td>26</td>\n",
       "    </tr>\n",
       "    <tr>\n",
       "      <th>2</th>\n",
       "      <td>DOORMAT UNION JACK GUNS AND ROSES</td>\n",
       "      <td>2010-01-10</td>\n",
       "      <td>Sunday</td>\n",
       "      <td>1</td>\n",
       "      <td>3</td>\n",
       "      <td>6.750000</td>\n",
       "      <td>26</td>\n",
       "    </tr>\n",
       "    <tr>\n",
       "      <th>3</th>\n",
       "      <td>DOORMAT UNION JACK GUNS AND ROSES</td>\n",
       "      <td>2010-01-11</td>\n",
       "      <td>Monday</td>\n",
       "      <td>1</td>\n",
       "      <td>15</td>\n",
       "      <td>6.350000</td>\n",
       "      <td>26</td>\n",
       "    </tr>\n",
       "    <tr>\n",
       "      <th>4</th>\n",
       "      <td>DOORMAT UNION JACK GUNS AND ROSES</td>\n",
       "      <td>2010-01-12</td>\n",
       "      <td>Tuesday</td>\n",
       "      <td>1</td>\n",
       "      <td>1</td>\n",
       "      <td>6.750000</td>\n",
       "      <td>26</td>\n",
       "    </tr>\n",
       "  </tbody>\n",
       "</table>\n",
       "</div>"
      ],
      "text/plain": [
       "                           Description        Date DayofWeek  Month  Quantity  \\\n",
       "0    DOORMAT UNION JACK GUNS AND ROSES  2010-01-05   Tuesday      1         1   \n",
       "1    DOORMAT UNION JACK GUNS AND ROSES  2010-01-08    Friday      1        12   \n",
       "2    DOORMAT UNION JACK GUNS AND ROSES  2010-01-10    Sunday      1         3   \n",
       "3    DOORMAT UNION JACK GUNS AND ROSES  2010-01-11    Monday      1        15   \n",
       "4    DOORMAT UNION JACK GUNS AND ROSES  2010-01-12   Tuesday      1         1   \n",
       "\n",
       "      Price  NumberOfSaleDays  \n",
       "0  6.750000                26  \n",
       "1  6.483333                26  \n",
       "2  6.750000                26  \n",
       "3  6.350000                26  \n",
       "4  6.750000                26  "
      ]
     },
     "execution_count": 32,
     "metadata": {},
     "output_type": "execute_result"
    }
   ],
   "source": [
    "daily_df['NumberOfSaleDays'] = daily_df.groupby('Description')['Description'].transform('count')\n",
    "daily_df.head()"
   ]
  },
  {
   "cell_type": "code",
   "execution_count": 33,
   "id": "f0656dd2-6c4a-4983-bed3-a3afea2afa27",
   "metadata": {
    "tags": []
   },
   "outputs": [
    {
     "data": {
      "text/html": [
       "<div>\n",
       "<style scoped>\n",
       "    .dataframe tbody tr th:only-of-type {\n",
       "        vertical-align: middle;\n",
       "    }\n",
       "\n",
       "    .dataframe tbody tr th {\n",
       "        vertical-align: top;\n",
       "    }\n",
       "\n",
       "    .dataframe thead th {\n",
       "        text-align: right;\n",
       "    }\n",
       "</style>\n",
       "<table border=\"1\" class=\"dataframe\">\n",
       "  <thead>\n",
       "    <tr style=\"text-align: right;\">\n",
       "      <th></th>\n",
       "      <th>Description</th>\n",
       "      <th>Date</th>\n",
       "      <th>DayofWeek</th>\n",
       "      <th>Month</th>\n",
       "      <th>Quantity</th>\n",
       "      <th>Price</th>\n",
       "      <th>NumberOfSaleDays</th>\n",
       "    </tr>\n",
       "  </thead>\n",
       "  <tbody>\n",
       "    <tr>\n",
       "      <th>1261</th>\n",
       "      <td>10 COLOUR SPACEBOY PEN</td>\n",
       "      <td>2010-05-06</td>\n",
       "      <td>Thursday</td>\n",
       "      <td>5</td>\n",
       "      <td>180</td>\n",
       "      <td>0.806667</td>\n",
       "      <td>284</td>\n",
       "    </tr>\n",
       "    <tr>\n",
       "      <th>1262</th>\n",
       "      <td>10 COLOUR SPACEBOY PEN</td>\n",
       "      <td>2010-05-07</td>\n",
       "      <td>Friday</td>\n",
       "      <td>5</td>\n",
       "      <td>60</td>\n",
       "      <td>0.850000</td>\n",
       "      <td>284</td>\n",
       "    </tr>\n",
       "    <tr>\n",
       "      <th>1263</th>\n",
       "      <td>10 COLOUR SPACEBOY PEN</td>\n",
       "      <td>2010-05-09</td>\n",
       "      <td>Sunday</td>\n",
       "      <td>5</td>\n",
       "      <td>12</td>\n",
       "      <td>0.850000</td>\n",
       "      <td>284</td>\n",
       "    </tr>\n",
       "    <tr>\n",
       "      <th>1264</th>\n",
       "      <td>10 COLOUR SPACEBOY PEN</td>\n",
       "      <td>2010-05-10</td>\n",
       "      <td>Monday</td>\n",
       "      <td>5</td>\n",
       "      <td>36</td>\n",
       "      <td>0.850000</td>\n",
       "      <td>284</td>\n",
       "    </tr>\n",
       "    <tr>\n",
       "      <th>1265</th>\n",
       "      <td>10 COLOUR SPACEBOY PEN</td>\n",
       "      <td>2010-05-11</td>\n",
       "      <td>Tuesday</td>\n",
       "      <td>5</td>\n",
       "      <td>25</td>\n",
       "      <td>0.850000</td>\n",
       "      <td>284</td>\n",
       "    </tr>\n",
       "    <tr>\n",
       "      <th>...</th>\n",
       "      <td>...</td>\n",
       "      <td>...</td>\n",
       "      <td>...</td>\n",
       "      <td>...</td>\n",
       "      <td>...</td>\n",
       "      <td>...</td>\n",
       "      <td>...</td>\n",
       "    </tr>\n",
       "    <tr>\n",
       "      <th>505251</th>\n",
       "      <td>ZINC WILLIE WINKIE  CANDLE STICK</td>\n",
       "      <td>2011-12-05</td>\n",
       "      <td>Monday</td>\n",
       "      <td>12</td>\n",
       "      <td>24</td>\n",
       "      <td>1.240000</td>\n",
       "      <td>343</td>\n",
       "    </tr>\n",
       "    <tr>\n",
       "      <th>505252</th>\n",
       "      <td>ZINC WILLIE WINKIE  CANDLE STICK</td>\n",
       "      <td>2011-12-06</td>\n",
       "      <td>Tuesday</td>\n",
       "      <td>12</td>\n",
       "      <td>2</td>\n",
       "      <td>1.630000</td>\n",
       "      <td>343</td>\n",
       "    </tr>\n",
       "    <tr>\n",
       "      <th>505253</th>\n",
       "      <td>ZINC WILLIE WINKIE  CANDLE STICK</td>\n",
       "      <td>2011-12-07</td>\n",
       "      <td>Wednesday</td>\n",
       "      <td>12</td>\n",
       "      <td>12</td>\n",
       "      <td>0.850000</td>\n",
       "      <td>343</td>\n",
       "    </tr>\n",
       "    <tr>\n",
       "      <th>505254</th>\n",
       "      <td>ZINC WILLIE WINKIE  CANDLE STICK</td>\n",
       "      <td>2011-12-08</td>\n",
       "      <td>Thursday</td>\n",
       "      <td>12</td>\n",
       "      <td>14</td>\n",
       "      <td>1.240000</td>\n",
       "      <td>343</td>\n",
       "    </tr>\n",
       "    <tr>\n",
       "      <th>505255</th>\n",
       "      <td>ZINC WILLIE WINKIE  CANDLE STICK</td>\n",
       "      <td>2011-12-09</td>\n",
       "      <td>Friday</td>\n",
       "      <td>12</td>\n",
       "      <td>50</td>\n",
       "      <td>1.240000</td>\n",
       "      <td>343</td>\n",
       "    </tr>\n",
       "  </tbody>\n",
       "</table>\n",
       "<p>232274 rows × 7 columns</p>\n",
       "</div>"
      ],
      "text/plain": [
       "                             Description        Date  DayofWeek  Month  \\\n",
       "1261              10 COLOUR SPACEBOY PEN  2010-05-06   Thursday      5   \n",
       "1262              10 COLOUR SPACEBOY PEN  2010-05-07     Friday      5   \n",
       "1263              10 COLOUR SPACEBOY PEN  2010-05-09     Sunday      5   \n",
       "1264              10 COLOUR SPACEBOY PEN  2010-05-10     Monday      5   \n",
       "1265              10 COLOUR SPACEBOY PEN  2010-05-11    Tuesday      5   \n",
       "...                                  ...         ...        ...    ...   \n",
       "505251  ZINC WILLIE WINKIE  CANDLE STICK  2011-12-05     Monday     12   \n",
       "505252  ZINC WILLIE WINKIE  CANDLE STICK  2011-12-06    Tuesday     12   \n",
       "505253  ZINC WILLIE WINKIE  CANDLE STICK  2011-12-07  Wednesday     12   \n",
       "505254  ZINC WILLIE WINKIE  CANDLE STICK  2011-12-08   Thursday     12   \n",
       "505255  ZINC WILLIE WINKIE  CANDLE STICK  2011-12-09     Friday     12   \n",
       "\n",
       "        Quantity     Price  NumberOfSaleDays  \n",
       "1261         180  0.806667               284  \n",
       "1262          60  0.850000               284  \n",
       "1263          12  0.850000               284  \n",
       "1264          36  0.850000               284  \n",
       "1265          25  0.850000               284  \n",
       "...          ...       ...               ...  \n",
       "505251        24  1.240000               343  \n",
       "505252         2  1.630000               343  \n",
       "505253        12  0.850000               343  \n",
       "505254        14  1.240000               343  \n",
       "505255        50  1.240000               343  \n",
       "\n",
       "[232274 rows x 7 columns]"
      ]
     },
     "execution_count": 33,
     "metadata": {},
     "output_type": "execute_result"
    }
   ],
   "source": [
    "daily_df[(daily_df['NumberOfSaleDays'] > 200)]"
   ]
  },
  {
   "cell_type": "code",
   "execution_count": 34,
   "id": "7a6f21b3-3339-48f3-9452-62ac0eccab02",
   "metadata": {
    "tags": []
   },
   "outputs": [
    {
     "data": {
      "text/html": [
       "<div>\n",
       "<style scoped>\n",
       "    .dataframe tbody tr th:only-of-type {\n",
       "        vertical-align: middle;\n",
       "    }\n",
       "\n",
       "    .dataframe tbody tr th {\n",
       "        vertical-align: top;\n",
       "    }\n",
       "\n",
       "    .dataframe thead th {\n",
       "        text-align: right;\n",
       "    }\n",
       "</style>\n",
       "<table border=\"1\" class=\"dataframe\">\n",
       "  <thead>\n",
       "    <tr style=\"text-align: right;\">\n",
       "      <th></th>\n",
       "      <th>Description</th>\n",
       "      <th>Date</th>\n",
       "      <th>DayofWeek</th>\n",
       "      <th>Month</th>\n",
       "      <th>Quantity</th>\n",
       "      <th>Price</th>\n",
       "      <th>NumberOfSaleDays</th>\n",
       "    </tr>\n",
       "  </thead>\n",
       "  <tbody>\n",
       "    <tr>\n",
       "      <th>1261</th>\n",
       "      <td>10 COLOUR SPACEBOY PEN</td>\n",
       "      <td>2010-05-06</td>\n",
       "      <td>Thursday</td>\n",
       "      <td>5</td>\n",
       "      <td>180</td>\n",
       "      <td>0.806667</td>\n",
       "      <td>284</td>\n",
       "    </tr>\n",
       "    <tr>\n",
       "      <th>1262</th>\n",
       "      <td>10 COLOUR SPACEBOY PEN</td>\n",
       "      <td>2010-05-07</td>\n",
       "      <td>Friday</td>\n",
       "      <td>5</td>\n",
       "      <td>60</td>\n",
       "      <td>0.850000</td>\n",
       "      <td>284</td>\n",
       "    </tr>\n",
       "    <tr>\n",
       "      <th>1263</th>\n",
       "      <td>10 COLOUR SPACEBOY PEN</td>\n",
       "      <td>2010-05-09</td>\n",
       "      <td>Sunday</td>\n",
       "      <td>5</td>\n",
       "      <td>12</td>\n",
       "      <td>0.850000</td>\n",
       "      <td>284</td>\n",
       "    </tr>\n",
       "    <tr>\n",
       "      <th>1264</th>\n",
       "      <td>10 COLOUR SPACEBOY PEN</td>\n",
       "      <td>2010-05-10</td>\n",
       "      <td>Monday</td>\n",
       "      <td>5</td>\n",
       "      <td>36</td>\n",
       "      <td>0.850000</td>\n",
       "      <td>284</td>\n",
       "    </tr>\n",
       "    <tr>\n",
       "      <th>1265</th>\n",
       "      <td>10 COLOUR SPACEBOY PEN</td>\n",
       "      <td>2010-05-11</td>\n",
       "      <td>Tuesday</td>\n",
       "      <td>5</td>\n",
       "      <td>25</td>\n",
       "      <td>0.850000</td>\n",
       "      <td>284</td>\n",
       "    </tr>\n",
       "  </tbody>\n",
       "</table>\n",
       "</div>"
      ],
      "text/plain": [
       "                 Description        Date DayofWeek  Month  Quantity     Price  \\\n",
       "1261  10 COLOUR SPACEBOY PEN  2010-05-06  Thursday      5       180  0.806667   \n",
       "1262  10 COLOUR SPACEBOY PEN  2010-05-07    Friday      5        60  0.850000   \n",
       "1263  10 COLOUR SPACEBOY PEN  2010-05-09    Sunday      5        12  0.850000   \n",
       "1264  10 COLOUR SPACEBOY PEN  2010-05-10    Monday      5        36  0.850000   \n",
       "1265  10 COLOUR SPACEBOY PEN  2010-05-11   Tuesday      5        25  0.850000   \n",
       "\n",
       "      NumberOfSaleDays  \n",
       "1261               284  \n",
       "1262               284  \n",
       "1263               284  \n",
       "1264               284  \n",
       "1265               284  "
      ]
     },
     "execution_count": 34,
     "metadata": {},
     "output_type": "execute_result"
    }
   ],
   "source": [
    "daily_df.drop(daily_df[(daily_df['NumberOfSaleDays'] < 200)].index,inplace=True)\n",
    "daily_df.head()"
   ]
  },
  {
   "cell_type": "code",
   "execution_count": 35,
   "id": "0b0ae6b9-6f6d-4e5e-8ce7-98ab69fefcab",
   "metadata": {
    "tags": []
   },
   "outputs": [
    {
     "data": {
      "text/plain": [
       "<bound method Series.reset_index of 1261       5\n",
       "1262       5\n",
       "1263       5\n",
       "1264       5\n",
       "1265       5\n",
       "          ..\n",
       "505251    12\n",
       "505252    12\n",
       "505253    12\n",
       "505254    12\n",
       "505255    12\n",
       "Name: Month, Length: 233674, dtype: int32>"
      ]
     },
     "execution_count": 35,
     "metadata": {},
     "output_type": "execute_result"
    }
   ],
   "source": [
    "daily_df['Month'].reset_index"
   ]
  },
  {
   "cell_type": "code",
   "execution_count": 37,
   "id": "03492500-20de-4309-a2d8-e6802e40338c",
   "metadata": {
    "tags": []
   },
   "outputs": [
    {
     "name": "stdout",
     "output_type": "stream",
     "text": [
      "<class 'pandas.core.frame.DataFrame'>\n",
      "Index: 233674 entries, 1261 to 505255\n",
      "Data columns (total 7 columns):\n",
      " #   Column            Non-Null Count   Dtype  \n",
      "---  ------            --------------   -----  \n",
      " 0   Description       233674 non-null  object \n",
      " 1   Date              233674 non-null  object \n",
      " 2   DayofWeek         233674 non-null  object \n",
      " 3   Month             233674 non-null  int32  \n",
      " 4   Quantity          233674 non-null  int64  \n",
      " 5   Price             233674 non-null  float64\n",
      " 6   NumberOfSaleDays  233674 non-null  int64  \n",
      "dtypes: float64(1), int32(1), int64(2), object(3)\n",
      "memory usage: 13.4+ MB\n"
     ]
    }
   ],
   "source": [
    "daily_df.info()"
   ]
  },
  {
   "cell_type": "markdown",
   "id": "f5d2784a-b209-4a6d-a225-5afe5479488c",
   "metadata": {},
   "source": [
    "#### Grouping by Month and Product"
   ]
  },
  {
   "cell_type": "code",
   "execution_count": 39,
   "id": "0f2df287-713a-4836-9b4a-b7971ff447ba",
   "metadata": {
    "tags": []
   },
   "outputs": [
    {
     "data": {
      "text/html": [
       "<div>\n",
       "<style scoped>\n",
       "    .dataframe tbody tr th:only-of-type {\n",
       "        vertical-align: middle;\n",
       "    }\n",
       "\n",
       "    .dataframe tbody tr th {\n",
       "        vertical-align: top;\n",
       "    }\n",
       "\n",
       "    .dataframe thead th {\n",
       "        text-align: right;\n",
       "    }\n",
       "</style>\n",
       "<table border=\"1\" class=\"dataframe\">\n",
       "  <thead>\n",
       "    <tr style=\"text-align: right;\">\n",
       "      <th></th>\n",
       "      <th>Description</th>\n",
       "      <th>Month</th>\n",
       "      <th>DayofWeek</th>\n",
       "      <th>Quantity</th>\n",
       "      <th>Price</th>\n",
       "    </tr>\n",
       "  </thead>\n",
       "  <tbody>\n",
       "    <tr>\n",
       "      <th>0</th>\n",
       "      <td>DOORMAT UNION JACK GUNS AND ROSES</td>\n",
       "      <td>1</td>\n",
       "      <td>Friday</td>\n",
       "      <td>55</td>\n",
       "      <td>7.118333</td>\n",
       "    </tr>\n",
       "    <tr>\n",
       "      <th>1</th>\n",
       "      <td>DOORMAT UNION JACK GUNS AND ROSES</td>\n",
       "      <td>1</td>\n",
       "      <td>Monday</td>\n",
       "      <td>28</td>\n",
       "      <td>7.917273</td>\n",
       "    </tr>\n",
       "    <tr>\n",
       "      <th>2</th>\n",
       "      <td>DOORMAT UNION JACK GUNS AND ROSES</td>\n",
       "      <td>1</td>\n",
       "      <td>Sunday</td>\n",
       "      <td>22</td>\n",
       "      <td>6.750000</td>\n",
       "    </tr>\n",
       "    <tr>\n",
       "      <th>3</th>\n",
       "      <td>DOORMAT UNION JACK GUNS AND ROSES</td>\n",
       "      <td>1</td>\n",
       "      <td>Thursday</td>\n",
       "      <td>28</td>\n",
       "      <td>8.470000</td>\n",
       "    </tr>\n",
       "    <tr>\n",
       "      <th>4</th>\n",
       "      <td>DOORMAT UNION JACK GUNS AND ROSES</td>\n",
       "      <td>1</td>\n",
       "      <td>Tuesday</td>\n",
       "      <td>8</td>\n",
       "      <td>8.114000</td>\n",
       "    </tr>\n",
       "  </tbody>\n",
       "</table>\n",
       "</div>"
      ],
      "text/plain": [
       "                           Description  Month DayofWeek  Quantity     Price\n",
       "0    DOORMAT UNION JACK GUNS AND ROSES      1    Friday        55  7.118333\n",
       "1    DOORMAT UNION JACK GUNS AND ROSES      1    Monday        28  7.917273\n",
       "2    DOORMAT UNION JACK GUNS AND ROSES      1    Sunday        22  6.750000\n",
       "3    DOORMAT UNION JACK GUNS AND ROSES      1  Thursday        28  8.470000\n",
       "4    DOORMAT UNION JACK GUNS AND ROSES      1   Tuesday         8  8.114000"
      ]
     },
     "execution_count": 39,
     "metadata": {},
     "output_type": "execute_result"
    }
   ],
   "source": [
    "monthly_df = df.groupby(['Description','Month','DayofWeek']).aggregate({'Quantity':'sum','Price':'mean'}).reset_index()\n",
    "monthly_df.head()"
   ]
  },
  {
   "cell_type": "code",
   "execution_count": 40,
   "id": "7d6151d7-db57-4c05-b646-1ae48102f832",
   "metadata": {
    "tags": []
   },
   "outputs": [],
   "source": [
    "monthly_df.set_index('Month', inplace =True)"
   ]
  },
  {
   "cell_type": "code",
   "execution_count": 41,
   "id": "ec1e6337-0690-4d15-8bfa-1b1d20965f10",
   "metadata": {
    "tags": []
   },
   "outputs": [],
   "source": [
    "monthly_df['index'] = range(1, len(monthly_df) + 1)"
   ]
  },
  {
   "cell_type": "code",
   "execution_count": 42,
   "id": "e0c88579-d87a-49bf-a8c7-f1804e944c5d",
   "metadata": {
    "tags": []
   },
   "outputs": [
    {
     "name": "stdout",
     "output_type": "stream",
     "text": [
      "<class 'pandas.core.frame.DataFrame'>\n",
      "RangeIndex: 185149 entries, 0 to 185148\n",
      "Data columns (total 6 columns):\n",
      " #   Column       Non-Null Count   Dtype  \n",
      "---  ------       --------------   -----  \n",
      " 0   Month        185149 non-null  int32  \n",
      " 1   Description  185149 non-null  object \n",
      " 2   DayofWeek    185149 non-null  object \n",
      " 3   Quantity     185149 non-null  int64  \n",
      " 4   Price        185149 non-null  float64\n",
      " 5   index        185149 non-null  int64  \n",
      "dtypes: float64(1), int32(1), int64(2), object(2)\n",
      "memory usage: 7.8+ MB\n"
     ]
    }
   ],
   "source": [
    "monthly_df = monthly_df.reset_index()\n",
    "monthly_df.info()"
   ]
  },
  {
   "cell_type": "code",
   "execution_count": 44,
   "id": "139faedd-8a82-4ff0-9709-a109bd2e310e",
   "metadata": {
    "tags": []
   },
   "outputs": [],
   "source": [
    "monthly_df = monthly_df.drop('index', axis=1)"
   ]
  },
  {
   "cell_type": "markdown",
   "id": "d374ff45-8209-46c4-8123-29ed4e1b076f",
   "metadata": {},
   "source": [
    "### Seasonality Analysis"
   ]
  },
  {
   "cell_type": "code",
   "execution_count": 46,
   "id": "bdf500e6-6f33-45bc-b0d5-99b66557210e",
   "metadata": {
    "tags": []
   },
   "outputs": [
    {
     "data": {
      "text/html": [
       "<div>\n",
       "<style scoped>\n",
       "    .dataframe tbody tr th:only-of-type {\n",
       "        vertical-align: middle;\n",
       "    }\n",
       "\n",
       "    .dataframe tbody tr th {\n",
       "        vertical-align: top;\n",
       "    }\n",
       "\n",
       "    .dataframe thead th {\n",
       "        text-align: right;\n",
       "    }\n",
       "</style>\n",
       "<table border=\"1\" class=\"dataframe\">\n",
       "  <thead>\n",
       "    <tr style=\"text-align: right;\">\n",
       "      <th></th>\n",
       "      <th>Description</th>\n",
       "      <th>Date</th>\n",
       "      <th>DayofWeek</th>\n",
       "      <th>Month</th>\n",
       "      <th>Quantity</th>\n",
       "      <th>Price</th>\n",
       "      <th>NumberOfSaleDays</th>\n",
       "    </tr>\n",
       "  </thead>\n",
       "  <tbody>\n",
       "    <tr>\n",
       "      <th>1261</th>\n",
       "      <td>10 COLOUR SPACEBOY PEN</td>\n",
       "      <td>2010-05-06</td>\n",
       "      <td>Thursday</td>\n",
       "      <td>5</td>\n",
       "      <td>180</td>\n",
       "      <td>0.806667</td>\n",
       "      <td>284</td>\n",
       "    </tr>\n",
       "    <tr>\n",
       "      <th>1262</th>\n",
       "      <td>10 COLOUR SPACEBOY PEN</td>\n",
       "      <td>2010-05-07</td>\n",
       "      <td>Friday</td>\n",
       "      <td>5</td>\n",
       "      <td>60</td>\n",
       "      <td>0.850000</td>\n",
       "      <td>284</td>\n",
       "    </tr>\n",
       "    <tr>\n",
       "      <th>1263</th>\n",
       "      <td>10 COLOUR SPACEBOY PEN</td>\n",
       "      <td>2010-05-09</td>\n",
       "      <td>Sunday</td>\n",
       "      <td>5</td>\n",
       "      <td>12</td>\n",
       "      <td>0.850000</td>\n",
       "      <td>284</td>\n",
       "    </tr>\n",
       "    <tr>\n",
       "      <th>1264</th>\n",
       "      <td>10 COLOUR SPACEBOY PEN</td>\n",
       "      <td>2010-05-10</td>\n",
       "      <td>Monday</td>\n",
       "      <td>5</td>\n",
       "      <td>36</td>\n",
       "      <td>0.850000</td>\n",
       "      <td>284</td>\n",
       "    </tr>\n",
       "    <tr>\n",
       "      <th>1265</th>\n",
       "      <td>10 COLOUR SPACEBOY PEN</td>\n",
       "      <td>2010-05-11</td>\n",
       "      <td>Tuesday</td>\n",
       "      <td>5</td>\n",
       "      <td>25</td>\n",
       "      <td>0.850000</td>\n",
       "      <td>284</td>\n",
       "    </tr>\n",
       "  </tbody>\n",
       "</table>\n",
       "</div>"
      ],
      "text/plain": [
       "                 Description        Date DayofWeek  Month  Quantity     Price  \\\n",
       "1261  10 COLOUR SPACEBOY PEN  2010-05-06  Thursday      5       180  0.806667   \n",
       "1262  10 COLOUR SPACEBOY PEN  2010-05-07    Friday      5        60  0.850000   \n",
       "1263  10 COLOUR SPACEBOY PEN  2010-05-09    Sunday      5        12  0.850000   \n",
       "1264  10 COLOUR SPACEBOY PEN  2010-05-10    Monday      5        36  0.850000   \n",
       "1265  10 COLOUR SPACEBOY PEN  2010-05-11   Tuesday      5        25  0.850000   \n",
       "\n",
       "      NumberOfSaleDays  \n",
       "1261               284  \n",
       "1262               284  \n",
       "1263               284  \n",
       "1264               284  \n",
       "1265               284  "
      ]
     },
     "execution_count": 46,
     "metadata": {},
     "output_type": "execute_result"
    }
   ],
   "source": [
    "daily_df.head()"
   ]
  },
  {
   "cell_type": "code",
   "execution_count": 47,
   "id": "560d114b-d43f-4f3c-bdcb-87e4c7f29aa1",
   "metadata": {
    "tags": []
   },
   "outputs": [
    {
     "data": {
      "text/html": [
       "<div>\n",
       "<style scoped>\n",
       "    .dataframe tbody tr th:only-of-type {\n",
       "        vertical-align: middle;\n",
       "    }\n",
       "\n",
       "    .dataframe tbody tr th {\n",
       "        vertical-align: top;\n",
       "    }\n",
       "\n",
       "    .dataframe thead th {\n",
       "        text-align: right;\n",
       "    }\n",
       "</style>\n",
       "<table border=\"1\" class=\"dataframe\">\n",
       "  <thead>\n",
       "    <tr style=\"text-align: right;\">\n",
       "      <th></th>\n",
       "      <th>Description</th>\n",
       "      <th>Date</th>\n",
       "      <th>DayofWeek</th>\n",
       "      <th>Month</th>\n",
       "      <th>Quantity</th>\n",
       "      <th>Price</th>\n",
       "      <th>NumberOfSaleDays</th>\n",
       "    </tr>\n",
       "  </thead>\n",
       "  <tbody>\n",
       "    <tr>\n",
       "      <th>3367</th>\n",
       "      <td>12 PENCILS SMALL TUBE SKULL</td>\n",
       "      <td>2009-12-01</td>\n",
       "      <td>Tuesday</td>\n",
       "      <td>12</td>\n",
       "      <td>4</td>\n",
       "      <td>0.975000</td>\n",
       "      <td>405</td>\n",
       "    </tr>\n",
       "    <tr>\n",
       "      <th>3368</th>\n",
       "      <td>12 PENCILS SMALL TUBE SKULL</td>\n",
       "      <td>2009-12-02</td>\n",
       "      <td>Wednesday</td>\n",
       "      <td>12</td>\n",
       "      <td>39</td>\n",
       "      <td>0.812500</td>\n",
       "      <td>405</td>\n",
       "    </tr>\n",
       "    <tr>\n",
       "      <th>3369</th>\n",
       "      <td>12 PENCILS SMALL TUBE SKULL</td>\n",
       "      <td>2009-12-03</td>\n",
       "      <td>Thursday</td>\n",
       "      <td>12</td>\n",
       "      <td>33</td>\n",
       "      <td>0.780000</td>\n",
       "      <td>405</td>\n",
       "    </tr>\n",
       "    <tr>\n",
       "      <th>3370</th>\n",
       "      <td>12 PENCILS SMALL TUBE SKULL</td>\n",
       "      <td>2009-12-04</td>\n",
       "      <td>Friday</td>\n",
       "      <td>12</td>\n",
       "      <td>37</td>\n",
       "      <td>0.758333</td>\n",
       "      <td>405</td>\n",
       "    </tr>\n",
       "    <tr>\n",
       "      <th>3371</th>\n",
       "      <td>12 PENCILS SMALL TUBE SKULL</td>\n",
       "      <td>2009-12-06</td>\n",
       "      <td>Sunday</td>\n",
       "      <td>12</td>\n",
       "      <td>1</td>\n",
       "      <td>0.650000</td>\n",
       "      <td>405</td>\n",
       "    </tr>\n",
       "    <tr>\n",
       "      <th>...</th>\n",
       "      <td>...</td>\n",
       "      <td>...</td>\n",
       "      <td>...</td>\n",
       "      <td>...</td>\n",
       "      <td>...</td>\n",
       "      <td>...</td>\n",
       "      <td>...</td>\n",
       "    </tr>\n",
       "    <tr>\n",
       "      <th>3767</th>\n",
       "      <td>12 PENCILS SMALL TUBE SKULL</td>\n",
       "      <td>2011-11-13</td>\n",
       "      <td>Sunday</td>\n",
       "      <td>11</td>\n",
       "      <td>37</td>\n",
       "      <td>0.650000</td>\n",
       "      <td>405</td>\n",
       "    </tr>\n",
       "    <tr>\n",
       "      <th>3768</th>\n",
       "      <td>12 PENCILS SMALL TUBE SKULL</td>\n",
       "      <td>2011-11-22</td>\n",
       "      <td>Tuesday</td>\n",
       "      <td>11</td>\n",
       "      <td>1</td>\n",
       "      <td>0.650000</td>\n",
       "      <td>405</td>\n",
       "    </tr>\n",
       "    <tr>\n",
       "      <th>3769</th>\n",
       "      <td>12 PENCILS SMALL TUBE SKULL</td>\n",
       "      <td>2011-12-07</td>\n",
       "      <td>Wednesday</td>\n",
       "      <td>12</td>\n",
       "      <td>8</td>\n",
       "      <td>0.650000</td>\n",
       "      <td>405</td>\n",
       "    </tr>\n",
       "    <tr>\n",
       "      <th>3770</th>\n",
       "      <td>12 PENCILS SMALL TUBE SKULL</td>\n",
       "      <td>2011-12-08</td>\n",
       "      <td>Thursday</td>\n",
       "      <td>12</td>\n",
       "      <td>3</td>\n",
       "      <td>0.650000</td>\n",
       "      <td>405</td>\n",
       "    </tr>\n",
       "    <tr>\n",
       "      <th>3771</th>\n",
       "      <td>12 PENCILS SMALL TUBE SKULL</td>\n",
       "      <td>2011-12-09</td>\n",
       "      <td>Friday</td>\n",
       "      <td>12</td>\n",
       "      <td>1</td>\n",
       "      <td>0.650000</td>\n",
       "      <td>405</td>\n",
       "    </tr>\n",
       "  </tbody>\n",
       "</table>\n",
       "<p>405 rows × 7 columns</p>\n",
       "</div>"
      ],
      "text/plain": [
       "                      Description        Date  DayofWeek  Month  Quantity  \\\n",
       "3367  12 PENCILS SMALL TUBE SKULL  2009-12-01    Tuesday     12         4   \n",
       "3368  12 PENCILS SMALL TUBE SKULL  2009-12-02  Wednesday     12        39   \n",
       "3369  12 PENCILS SMALL TUBE SKULL  2009-12-03   Thursday     12        33   \n",
       "3370  12 PENCILS SMALL TUBE SKULL  2009-12-04     Friday     12        37   \n",
       "3371  12 PENCILS SMALL TUBE SKULL  2009-12-06     Sunday     12         1   \n",
       "...                           ...         ...        ...    ...       ...   \n",
       "3767  12 PENCILS SMALL TUBE SKULL  2011-11-13     Sunday     11        37   \n",
       "3768  12 PENCILS SMALL TUBE SKULL  2011-11-22    Tuesday     11         1   \n",
       "3769  12 PENCILS SMALL TUBE SKULL  2011-12-07  Wednesday     12         8   \n",
       "3770  12 PENCILS SMALL TUBE SKULL  2011-12-08   Thursday     12         3   \n",
       "3771  12 PENCILS SMALL TUBE SKULL  2011-12-09     Friday     12         1   \n",
       "\n",
       "         Price  NumberOfSaleDays  \n",
       "3367  0.975000               405  \n",
       "3368  0.812500               405  \n",
       "3369  0.780000               405  \n",
       "3370  0.758333               405  \n",
       "3371  0.650000               405  \n",
       "...        ...               ...  \n",
       "3767  0.650000               405  \n",
       "3768  0.650000               405  \n",
       "3769  0.650000               405  \n",
       "3770  0.650000               405  \n",
       "3771  0.650000               405  \n",
       "\n",
       "[405 rows x 7 columns]"
      ]
     },
     "execution_count": 47,
     "metadata": {},
     "output_type": "execute_result"
    }
   ],
   "source": [
    "p1_df=daily_df[daily_df['Description']=='12 PENCILS SMALL TUBE SKULL']\n",
    "p1_df"
   ]
  },
  {
   "cell_type": "code",
   "execution_count": 48,
   "id": "778a6b8c-6ec6-4699-9c0c-d79c67cc955e",
   "metadata": {
    "tags": []
   },
   "outputs": [
    {
     "data": {
      "text/html": [
       "<div>\n",
       "<style scoped>\n",
       "    .dataframe tbody tr th:only-of-type {\n",
       "        vertical-align: middle;\n",
       "    }\n",
       "\n",
       "    .dataframe tbody tr th {\n",
       "        vertical-align: top;\n",
       "    }\n",
       "\n",
       "    .dataframe thead th {\n",
       "        text-align: right;\n",
       "    }\n",
       "</style>\n",
       "<table border=\"1\" class=\"dataframe\">\n",
       "  <thead>\n",
       "    <tr style=\"text-align: right;\">\n",
       "      <th></th>\n",
       "      <th>Description</th>\n",
       "      <th>Date</th>\n",
       "      <th>DayofWeek</th>\n",
       "      <th>Month</th>\n",
       "      <th>Quantity</th>\n",
       "      <th>Price</th>\n",
       "      <th>NumberOfSaleDays</th>\n",
       "    </tr>\n",
       "  </thead>\n",
       "  <tbody>\n",
       "    <tr>\n",
       "      <th>1970-01-01 00:00:00.000003367</th>\n",
       "      <td>NaN</td>\n",
       "      <td>NaN</td>\n",
       "      <td>NaN</td>\n",
       "      <td>NaN</td>\n",
       "      <td>NaN</td>\n",
       "      <td>NaN</td>\n",
       "      <td>NaN</td>\n",
       "    </tr>\n",
       "  </tbody>\n",
       "</table>\n",
       "</div>"
      ],
      "text/plain": [
       "                              Description Date DayofWeek  Month  Quantity  \\\n",
       "1970-01-01 00:00:00.000003367         NaN  NaN       NaN    NaN       NaN   \n",
       "\n",
       "                               Price  NumberOfSaleDays  \n",
       "1970-01-01 00:00:00.000003367    NaN               NaN  "
      ]
     },
     "execution_count": 48,
     "metadata": {},
     "output_type": "execute_result"
    }
   ],
   "source": [
    "p1_df.asfreq('D')"
   ]
  },
  {
   "cell_type": "code",
   "execution_count": 49,
   "id": "3fde7654-b91a-4321-8e4f-8a3d8f342667",
   "metadata": {
    "tags": []
   },
   "outputs": [
    {
     "data": {
      "image/png": "[encoded data removed]",
      "text/plain": [
       "<Figure size 640x480 with 4 Axes>"
      ]
     },
     "execution_count": 49,
     "metadata": {},
     "output_type": "execute_result"
    },
    {
     "data": {
      "image/png": "[encoded data removed]",
      "text/plain": [
       "<Figure size 640x480 with 4 Axes>"
      ]
     },
     "metadata": {},
     "output_type": "display_data"
    }
   ],
   "source": [
    "q1_df=p1_df[\"Quantity\"]\n",
    "result = seasonal_decompose(q1_df, model='additive',period=100)\n",
    "result.plot()"
   ]
  },
  {
   "cell_type": "code",
   "execution_count": 50,
   "id": "cb2a8d08-6eea-4de7-bce5-5da6bb4bea25",
   "metadata": {
    "tags": []
   },
   "outputs": [
    {
     "data": {
      "image/png": "[encoded data removed]",
      "text/plain": [
       "<Figure size 640x480 with 4 Axes>"
      ]
     },
     "execution_count": 50,
     "metadata": {},
     "output_type": "execute_result"
    },
    {
     "data": {
      "image/png": "[encoded data removed]",
      "text/plain": [
       "<Figure size 640x480 with 4 Axes>"
      ]
     },
     "metadata": {},
     "output_type": "display_data"
    }
   ],
   "source": [
    "q1_df=p1_df[\"Quantity\"]\n",
    "result = seasonal_decompose(q1_df, model='multiplicative',period=100)\n",
    "result.plot()"
   ]
  },
  {
   "cell_type": "code",
   "execution_count": null,
   "id": "63879b43-4400-41d5-9660-278e2efe0e59",
   "metadata": {},
   "outputs": [],
   "source": []
  }
 ],
 "metadata": {
  "kernelspec": {
   "display_name": "Python 3 (ipykernel)",
   "language": "python",
   "name": "python3"
  },
  "language_info": {
   "codemirror_mode": {
    "name": "ipython",
    "version": 3
   },
   "file_extension": ".py",
   "mimetype": "text/x-python",
   "name": "python",
   "nbconvert_exporter": "python",
   "pygments_lexer": "ipython3",
   "version": "3.11.5"
  }
 },
 "nbformat": 4,
 "nbformat_minor": 5
}
